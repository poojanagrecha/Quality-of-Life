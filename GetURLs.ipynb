{
 "cells": [
  {
   "cell_type": "code",
   "execution_count": 1,
   "metadata": {},
   "outputs": [],
   "source": [
    "import pandas as pd \n",
    "import requests"
   ]
  },
  {
   "cell_type": "code",
   "execution_count": 2,
   "metadata": {},
   "outputs": [],
   "source": [
    "# Output File (CSV)\n",
    "filepath = \"25cities.csv\""
   ]
  },
  {
   "cell_type": "code",
   "execution_count": 3,
   "metadata": {},
   "outputs": [
    {
     "data": {
      "text/html": [
       "<div>\n",
       "<style scoped>\n",
       "    .dataframe tbody tr th:only-of-type {\n",
       "        vertical-align: middle;\n",
       "    }\n",
       "\n",
       "    .dataframe tbody tr th {\n",
       "        vertical-align: top;\n",
       "    }\n",
       "\n",
       "    .dataframe thead th {\n",
       "        text-align: right;\n",
       "    }\n",
       "</style>\n",
       "<table border=\"1\" class=\"dataframe\">\n",
       "  <thead>\n",
       "    <tr style=\"text-align: right;\">\n",
       "      <th></th>\n",
       "      <th>city</th>\n",
       "      <th>city_ascii</th>\n",
       "      <th>state_id</th>\n",
       "      <th>state_name</th>\n",
       "      <th>county_fips</th>\n",
       "      <th>county_name</th>\n",
       "      <th>county_fips_all</th>\n",
       "      <th>county_name_all</th>\n",
       "      <th>lat</th>\n",
       "      <th>lng</th>\n",
       "      <th>population</th>\n",
       "      <th>density</th>\n",
       "      <th>source</th>\n",
       "      <th>military</th>\n",
       "      <th>incorporated</th>\n",
       "      <th>timezone</th>\n",
       "      <th>ranking</th>\n",
       "      <th>zips</th>\n",
       "      <th>id</th>\n",
       "    </tr>\n",
       "  </thead>\n",
       "  <tbody>\n",
       "    <tr>\n",
       "      <th>0</th>\n",
       "      <td>Gig Harbor</td>\n",
       "      <td>Gig Harbor</td>\n",
       "      <td>WA</td>\n",
       "      <td>Washington</td>\n",
       "      <td>53053</td>\n",
       "      <td>Pierce</td>\n",
       "      <td>53053</td>\n",
       "      <td>Pierce</td>\n",
       "      <td>47.3352</td>\n",
       "      <td>-122.5968</td>\n",
       "      <td>9507</td>\n",
       "      <td>622</td>\n",
       "      <td>polygon</td>\n",
       "      <td>False</td>\n",
       "      <td>True</td>\n",
       "      <td>America/Los_Angeles</td>\n",
       "      <td>3</td>\n",
       "      <td>98332 98335</td>\n",
       "      <td>1840019855</td>\n",
       "    </tr>\n",
       "    <tr>\n",
       "      <th>1</th>\n",
       "      <td>Anacortes</td>\n",
       "      <td>Anacortes</td>\n",
       "      <td>WA</td>\n",
       "      <td>Washington</td>\n",
       "      <td>53057</td>\n",
       "      <td>Skagit</td>\n",
       "      <td>53057</td>\n",
       "      <td>Skagit</td>\n",
       "      <td>48.4878</td>\n",
       "      <td>-122.6292</td>\n",
       "      <td>17955</td>\n",
       "      <td>559</td>\n",
       "      <td>polygon</td>\n",
       "      <td>False</td>\n",
       "      <td>True</td>\n",
       "      <td>America/Los_Angeles</td>\n",
       "      <td>3</td>\n",
       "      <td>98221</td>\n",
       "      <td>1840018366</td>\n",
       "    </tr>\n",
       "    <tr>\n",
       "      <th>2</th>\n",
       "      <td>Omak</td>\n",
       "      <td>Omak</td>\n",
       "      <td>WA</td>\n",
       "      <td>Washington</td>\n",
       "      <td>53047</td>\n",
       "      <td>Okanogan</td>\n",
       "      <td>53047</td>\n",
       "      <td>Okanogan</td>\n",
       "      <td>48.4228</td>\n",
       "      <td>-119.5159</td>\n",
       "      <td>8130</td>\n",
       "      <td>478</td>\n",
       "      <td>polygon</td>\n",
       "      <td>False</td>\n",
       "      <td>True</td>\n",
       "      <td>America/Los_Angeles</td>\n",
       "      <td>3</td>\n",
       "      <td>98841</td>\n",
       "      <td>1840019761</td>\n",
       "    </tr>\n",
       "    <tr>\n",
       "      <th>3</th>\n",
       "      <td>Loon Lake</td>\n",
       "      <td>Loon Lake</td>\n",
       "      <td>WA</td>\n",
       "      <td>Washington</td>\n",
       "      <td>53065</td>\n",
       "      <td>Stevens</td>\n",
       "      <td>53065</td>\n",
       "      <td>Stevens</td>\n",
       "      <td>48.0685</td>\n",
       "      <td>-117.6298</td>\n",
       "      <td>784</td>\n",
       "      <td>92</td>\n",
       "      <td>polygon</td>\n",
       "      <td>False</td>\n",
       "      <td>False</td>\n",
       "      <td>America/Los_Angeles</td>\n",
       "      <td>3</td>\n",
       "      <td>99148</td>\n",
       "      <td>1840023998</td>\n",
       "    </tr>\n",
       "    <tr>\n",
       "      <th>4</th>\n",
       "      <td>Sauk City</td>\n",
       "      <td>Sauk City</td>\n",
       "      <td>WI</td>\n",
       "      <td>Wisconsin</td>\n",
       "      <td>55111</td>\n",
       "      <td>Sauk</td>\n",
       "      <td>55111</td>\n",
       "      <td>Sauk</td>\n",
       "      <td>43.2721</td>\n",
       "      <td>-89.7307</td>\n",
       "      <td>3468</td>\n",
       "      <td>905</td>\n",
       "      <td>polygon</td>\n",
       "      <td>False</td>\n",
       "      <td>True</td>\n",
       "      <td>America/Chicago</td>\n",
       "      <td>3</td>\n",
       "      <td>53583</td>\n",
       "      <td>1840002729</td>\n",
       "    </tr>\n",
       "  </tbody>\n",
       "</table>\n",
       "</div>"
      ],
      "text/plain": [
       "         city  city_ascii state_id  state_name  county_fips county_name  \\\n",
       "0  Gig Harbor  Gig Harbor       WA  Washington        53053      Pierce   \n",
       "1   Anacortes   Anacortes       WA  Washington        53057      Skagit   \n",
       "2        Omak        Omak       WA  Washington        53047    Okanogan   \n",
       "3   Loon Lake   Loon Lake       WA  Washington        53065     Stevens   \n",
       "4   Sauk City   Sauk City       WI   Wisconsin        55111        Sauk   \n",
       "\n",
       "  county_fips_all county_name_all      lat       lng  population  density  \\\n",
       "0           53053          Pierce  47.3352 -122.5968        9507      622   \n",
       "1           53057          Skagit  48.4878 -122.6292       17955      559   \n",
       "2           53047        Okanogan  48.4228 -119.5159        8130      478   \n",
       "3           53065         Stevens  48.0685 -117.6298         784       92   \n",
       "4           55111            Sauk  43.2721  -89.7307        3468      905   \n",
       "\n",
       "    source  military  incorporated             timezone  ranking         zips  \\\n",
       "0  polygon     False          True  America/Los_Angeles        3  98332 98335   \n",
       "1  polygon     False          True  America/Los_Angeles        3        98221   \n",
       "2  polygon     False          True  America/Los_Angeles        3        98841   \n",
       "3  polygon     False         False  America/Los_Angeles        3        99148   \n",
       "4  polygon     False          True      America/Chicago        3        53583   \n",
       "\n",
       "           id  \n",
       "0  1840019855  \n",
       "1  1840018366  \n",
       "2  1840019761  \n",
       "3  1840023998  \n",
       "4  1840002729  "
      ]
     },
     "execution_count": 3,
     "metadata": {},
     "output_type": "execute_result"
    }
   ],
   "source": [
    "city_sample = pd.read_csv(filepath)\n",
    "city_sample.head()"
   ]
  },
  {
   "cell_type": "code",
   "execution_count": 4,
   "metadata": {},
   "outputs": [],
   "source": [
    "urls = []\n",
    "for index,row in city_sample.iterrows(): \n",
    "    lat = city_sample.lat[index]\n",
    "    lon = city_sample.lng[index]\n",
    "    \n",
    "    query_url = f'https://api.teleport.org/api/locations/{lat}%2C%20{lon}/'\n",
    "    \n",
    "    urls.append(query_url)"
   ]
  },
  {
   "cell_type": "code",
   "execution_count": 5,
   "metadata": {},
   "outputs": [
    {
     "data": {
      "text/plain": [
       "['https://api.teleport.org/api/locations/47.3352%2C%20-122.5968/',\n",
       " 'https://api.teleport.org/api/locations/48.4878%2C%20-122.6292/',\n",
       " 'https://api.teleport.org/api/locations/48.4228%2C%20-119.5159/',\n",
       " 'https://api.teleport.org/api/locations/48.0685%2C%20-117.6298/',\n",
       " 'https://api.teleport.org/api/locations/43.2721%2C%20-89.7307/',\n",
       " 'https://api.teleport.org/api/locations/44.8476%2C%20-88.3592/',\n",
       " 'https://api.teleport.org/api/locations/35.9939%2C%20-106.0358/',\n",
       " 'https://api.teleport.org/api/locations/35.37%2C%20-105.4441/',\n",
       " 'https://api.teleport.org/api/locations/32.569%2C%20-97.1211/',\n",
       " 'https://api.teleport.org/api/locations/30.3006%2C%20-97.7517/',\n",
       " 'https://api.teleport.org/api/locations/28.4772%2C%20-81.3369/',\n",
       " 'https://api.teleport.org/api/locations/26.6195%2C%20-81.8303/',\n",
       " 'https://api.teleport.org/api/locations/37.7562%2C%20-122.443/',\n",
       " 'https://api.teleport.org/api/locations/32.7936%2C%20-96.7662/',\n",
       " 'https://api.teleport.org/api/locations/27.9088%2C%20-82.7712/',\n",
       " 'https://api.teleport.org/api/locations/40.7834%2C%20-73.9662/',\n",
       " 'https://api.teleport.org/api/locations/34.0786%2C%20-118.4021/',\n",
       " 'https://api.teleport.org/api/locations/34.0786%2C%20-118.4021/',\n",
       " 'https://api.teleport.org/api/locations/29.4658%2C%20-98.5254/',\n",
       " 'https://api.teleport.org/api/locations/29.8736%2C%20-97.93799999999999/',\n",
       " 'https://api.teleport.org/api/locations/32.8312%2C%20-117.1225/',\n",
       " 'https://api.teleport.org/api/locations/47.6211%2C%20-122.3244/',\n",
       " 'https://api.teleport.org/api/locations/33.7627%2C%20-84.4225/',\n",
       " 'https://api.teleport.org/api/locations/39.1239%2C%20-94.5541/',\n",
       " 'https://api.teleport.org/api/locations/29.7869%2C%20-95.3905/']"
      ]
     },
     "execution_count": 5,
     "metadata": {},
     "output_type": "execute_result"
    }
   ],
   "source": [
    "urls"
   ]
  },
  {
   "cell_type": "code",
   "execution_count": 42,
   "metadata": {},
   "outputs": [
    {
     "name": "stdout",
     "output_type": "stream",
     "text": [
      "list indices must be integers or slices, not str\n",
      "list indices must be integers or slices, not str\n",
      "list indices must be integers or slices, not str\n",
      "list indices must be integers or slices, not str\n",
      "list indices must be integers or slices, not str\n",
      "list indices must be integers or slices, not str\n",
      "list indices must be integers or slices, not str\n",
      "list indices must be integers or slices, not str\n",
      "list indices must be integers or slices, not str\n",
      "list indices must be integers or slices, not str\n",
      "list indices must be integers or slices, not str\n",
      "list indices must be integers or slices, not str\n",
      "list indices must be integers or slices, not str\n",
      "list indices must be integers or slices, not str\n",
      "list indices must be integers or slices, not str\n",
      "list indices must be integers or slices, not str\n",
      "list indices must be integers or slices, not str\n",
      "list indices must be integers or slices, not str\n",
      "list indices must be integers or slices, not str\n",
      "list indices must be integers or slices, not str\n",
      "list indices must be integers or slices, not str\n",
      "list indices must be integers or slices, not str\n",
      "list indices must be integers or slices, not str\n",
      "list indices must be integers or slices, not str\n",
      "list indices must be integers or slices, not str\n"
     ]
    }
   ],
   "source": [
    "city_name = []\n",
    "latitude = []\n",
    "longitude = []\n",
    "Housing = []\n",
    "Cost_of_Living = []\n",
    "Startups = []\n",
    "Venture_Capital = []\n",
    "Travel_Connectivity = []\n",
    "Commute = []\n",
    "Business_Freedom = []\n",
    "Safety = []\n",
    "Healthcare = []\n",
    "Education = []\n",
    "Environmental_Quality = []\n",
    "Economy = []\n",
    "Taxation = []\n",
    "Internet_Access = []\n",
    "Leisure = []\n",
    "Tolerance = []\n",
    "Outdoors = []\n",
    "\n",
    "\n",
    "for url in urls:\n",
    "    try:\n",
    "        response = requests.get(url).json()\n",
    "\n",
    "        geoIDURL = response[\"_embedded\"][\"location:nearest-cities\"][0][\"_links\"][\"location:nearest-city\"][\"href\"]\n",
    "        geoResponse = requests.get(geoIDURL).json()\n",
    "        latitude.append(geoResponse[\"_links\"][\"curies\"][\"location\"][\"latlon\"]['latitude'])\n",
    "        longitude.append(geoResponse[\"_links\"][\"curies\"][\"location\"][\"latlon\"]['longitude'])\n",
    "\n",
    "        slugURL = geoResponse['_links'][\"city:urban_area\"][\"href\"]\n",
    "        slugResponse = requests.get(slugURL).json()\n",
    "        city_name.append(slugResponse[\"name\"])\n",
    "\n",
    "        detailURL = slugResponse[\"_links\"][\"ua:scores\"][\"href\"]\n",
    "        detailResponse = requests.get(detailURL).json()\n",
    "        categories = detailResponse[\"categories\"]\n",
    "        Housing.append(categories[0][\"score_out_of_10\"])\n",
    "        Cost_of_Living.append(categories[1][\"score_out_of_10\"])\n",
    "        Startups.append(categories[2][\"score_out_of_10\"])\n",
    "        Venture_Capital.append(categories[3][\"score_out_of_10\"])\n",
    "        Travel_Connectivity.append(categories[4][\"score_out_of_10\"])\n",
    "        Commute.append(categories[5][\"score_out_of_10\"])\n",
    "        Business_Freedom.append(categories[6][\"score_out_of_10\"])\n",
    "        Safety.append(categories[7][\"score_out_of_10\"])\n",
    "        Healthcare.append(categories[8][\"score_out_of_10\"])\n",
    "        Education.append(categories[9][\"score_out_of_10\"])\n",
    "        Environmental_Quality.append(categories[10][\"score_out_of_10\"])\n",
    "        Economy.append(categories[11][\"score_out_of_10\"])\n",
    "        Taxation.append(categories[12][\"score_out_of_10\"])\n",
    "        Internet_Access.append(categories[13][\"score_out_of_10\"])\n",
    "        Leisure.append(categories[14][\"score_out_of_10\"])\n",
    "        Tolerance.append(categories[15][\"score_out_of_10\"])\n",
    "        Outdoors.append(categories[16][\"score_out_of_10\"])\n",
    "        \n",
    "    except Exception as e: \n",
    "        print(e)"
   ]
  },
  {
   "cell_type": "code",
   "execution_count": 29,
   "metadata": {},
   "outputs": [
    {
     "data": {
      "text/plain": [
       "5.224500000000001"
      ]
     },
     "execution_count": 29,
     "metadata": {},
     "output_type": "execute_result"
    }
   ],
   "source": [
    "categories[0][\"score_out_of_10\"]"
   ]
  },
  {
   "cell_type": "code",
   "execution_count": 39,
   "metadata": {},
   "outputs": [
    {
     "data": {
      "text/plain": [
       "{'city:admin1_division': {'href': 'https://api.teleport.org/api/countries/iso_alpha2:US/admin1_divisions/geonames:TX/',\n",
       "  'name': 'Texas'},\n",
       " 'city:alternate-names': {'href': 'https://api.teleport.org/api/cities/geonameid:4699066/alternate_names/'},\n",
       " 'city:country': {'href': 'https://api.teleport.org/api/countries/iso_alpha2:US/',\n",
       "  'name': 'United States'},\n",
       " 'city:timezone': {'href': 'https://api.teleport.org/api/timezones/iana:America%2FChicago/',\n",
       "  'name': 'America/Chicago'},\n",
       " 'city:urban_area': {'href': 'https://api.teleport.org/api/urban_areas/slug:houston/',\n",
       "  'name': 'Houston'},\n",
       " 'curies': [{'href': 'https://developers.teleport.org/api/resources/Location/#!/relations/{rel}/',\n",
       "   'name': 'location',\n",
       "   'templated': True},\n",
       "  {'href': 'https://developers.teleport.org/api/resources/City/#!/relations/{rel}/',\n",
       "   'name': 'city',\n",
       "   'templated': True},\n",
       "  {'href': 'https://developers.teleport.org/api/resources/UrbanArea/#!/relations/{rel}/',\n",
       "   'name': 'ua',\n",
       "   'templated': True},\n",
       "  {'href': 'https://developers.teleport.org/api/resources/Country/#!/relations/{rel}/',\n",
       "   'name': 'country',\n",
       "   'templated': True},\n",
       "  {'href': 'https://developers.teleport.org/api/resources/Admin1Division/#!/relations/{rel}/',\n",
       "   'name': 'a1',\n",
       "   'templated': True},\n",
       "  {'href': 'https://developers.teleport.org/api/resources/Timezone/#!/relations/{rel}/',\n",
       "   'name': 'tz',\n",
       "   'templated': True}],\n",
       " 'self': {'href': 'https://api.teleport.org/api/cities/geonameid:4699066/'}}"
      ]
     },
     "execution_count": 39,
     "metadata": {},
     "output_type": "execute_result"
    }
   ],
   "source": [
    "geoResponse[\"_links\"]"
   ]
  },
  {
   "cell_type": "code",
   "execution_count": 12,
   "metadata": {},
   "outputs": [],
   "source": [
    "\n"
   ]
  },
  {
   "cell_type": "code",
   "execution_count": 20,
   "metadata": {},
   "outputs": [
    {
     "data": {
      "text/plain": [
       "2.291"
      ]
     },
     "execution_count": 20,
     "metadata": {},
     "output_type": "execute_result"
    }
   ],
   "source": []
  },
  {
   "cell_type": "code",
   "execution_count": 25,
   "metadata": {},
   "outputs": [
    {
     "data": {
      "text/plain": [
       "['Seattle',\n",
       " 'Dallas',\n",
       " 'Austin',\n",
       " 'Orlando',\n",
       " 'San Francisco Bay Area',\n",
       " 'Dallas',\n",
       " 'Tampa Bay Area',\n",
       " 'New York',\n",
       " 'Los Angeles',\n",
       " 'Los Angeles',\n",
       " 'San Antonio',\n",
       " 'San Diego',\n",
       " 'Seattle',\n",
       " 'Atlanta',\n",
       " 'Kansas City',\n",
       " 'Houston']"
      ]
     },
     "execution_count": 25,
     "metadata": {},
     "output_type": "execute_result"
    }
   ],
   "source": [
    "city_name"
   ]
  },
  {
   "cell_type": "code",
   "execution_count": 31,
   "metadata": {},
   "outputs": [
    {
     "data": {
      "text/plain": [
       "[2.291,\n",
       " 5.259000000000001,\n",
       " 4.3345,\n",
       " 5.778499999999999,\n",
       " 1.0,\n",
       " 5.259000000000001,\n",
       " 5.696,\n",
       " 1.0,\n",
       " 1.5274999999999999,\n",
       " 1.5274999999999999,\n",
       " 6.402000000000001,\n",
       " 2.9335,\n",
       " 2.291,\n",
       " 4.9755,\n",
       " 6.7075,\n",
       " 5.224500000000001]"
      ]
     },
     "execution_count": 31,
     "metadata": {},
     "output_type": "execute_result"
    }
   ],
   "source": [
    "Housing"
   ]
  },
  {
   "cell_type": "code",
   "execution_count": 36,
   "metadata": {},
   "outputs": [],
   "source": [
    "df = pd.DataFrame()\n",
    "df['City'] = city_name\n",
    "df[\"Latitude\"] = latitude\n",
    "df['Longitude'] = longitude\n",
    "df['Housing'] = Housing\n",
    "df['Cost_of_Living'] = Cost_of_Living\n",
    "df['Startups'] = Startups\n",
    "df['Venture_Capital'] = Venture_Capital\n",
    "df['Travel_Connectivity'] = Travel_Connectivity\n",
    "df['Commute']= Commute \n",
    "df['Business_Freedom'] = Business_Freedom\n",
    "df['Safety'] = Safety\n",
    "df['Healthcare'] = Healthcare\n",
    "df['Education'] = Education\n",
    "df['Environmental_Quality'] = Environmental_Quality\n",
    "df['Economy'] = Economy\n",
    "df['Taxation'] = Taxation\n",
    "df['Internet_Access']= Internet_Access \n",
    "df['Leisure'] = Leisure\n",
    "df['Tolerance'] = Tolerance\n",
    "df['Outdoors'] = Outdoors"
   ]
  },
  {
   "cell_type": "code",
   "execution_count": 37,
   "metadata": {},
   "outputs": [
    {
     "data": {
      "text/html": [
       "<div>\n",
       "<style scoped>\n",
       "    .dataframe tbody tr th:only-of-type {\n",
       "        vertical-align: middle;\n",
       "    }\n",
       "\n",
       "    .dataframe tbody tr th {\n",
       "        vertical-align: top;\n",
       "    }\n",
       "\n",
       "    .dataframe thead th {\n",
       "        text-align: right;\n",
       "    }\n",
       "</style>\n",
       "<table border=\"1\" class=\"dataframe\">\n",
       "  <thead>\n",
       "    <tr style=\"text-align: right;\">\n",
       "      <th></th>\n",
       "      <th>City</th>\n",
       "      <th>Latitude</th>\n",
       "      <th>Longitude</th>\n",
       "      <th>Housing</th>\n",
       "      <th>Cost_of_Living</th>\n",
       "      <th>Startups</th>\n",
       "      <th>Venture_Capital</th>\n",
       "      <th>Travel_Connectivity</th>\n",
       "      <th>Commute</th>\n",
       "      <th>Business_Freedom</th>\n",
       "      <th>Safety</th>\n",
       "      <th>Healthcare</th>\n",
       "      <th>Education</th>\n",
       "      <th>Environmental_Quality</th>\n",
       "      <th>Economy</th>\n",
       "      <th>Taxation</th>\n",
       "      <th>Internet_Access</th>\n",
       "      <th>Leisure</th>\n",
       "      <th>Tolerance</th>\n",
       "      <th>Outdoors</th>\n",
       "    </tr>\n",
       "  </thead>\n",
       "  <tbody>\n",
       "  </tbody>\n",
       "</table>\n",
       "</div>"
      ],
      "text/plain": [
       "Empty DataFrame\n",
       "Columns: [City, Latitude, Longitude, Housing, Cost_of_Living, Startups, Venture_Capital, Travel_Connectivity, Commute, Business_Freedom, Safety, Healthcare, Education, Environmental_Quality, Economy, Taxation, Internet_Access, Leisure, Tolerance, Outdoors]\n",
       "Index: []"
      ]
     },
     "execution_count": 37,
     "metadata": {},
     "output_type": "execute_result"
    }
   ],
   "source": [
    "df"
   ]
  },
  {
   "cell_type": "code",
   "execution_count": 34,
   "metadata": {},
   "outputs": [],
   "source": [
    "df.to_csv('ScoreInfo.csv')"
   ]
  },
  {
   "cell_type": "code",
   "execution_count": null,
   "metadata": {},
   "outputs": [],
   "source": []
  }
 ],
 "metadata": {
  "kernelspec": {
   "display_name": "Python 3",
   "language": "python",
   "name": "python3"
  },
  "language_info": {
   "codemirror_mode": {
    "name": "ipython",
    "version": 3
   },
   "file_extension": ".py",
   "mimetype": "text/x-python",
   "name": "python",
   "nbconvert_exporter": "python",
   "pygments_lexer": "ipython3",
   "version": "3.7.6"
  }
 },
 "nbformat": 4,
 "nbformat_minor": 4
}
