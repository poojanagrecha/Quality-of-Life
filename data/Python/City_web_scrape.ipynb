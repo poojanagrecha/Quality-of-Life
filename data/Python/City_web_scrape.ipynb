{
 "cells": [
  {
   "cell_type": "markdown",
   "metadata": {},
   "source": [
    "# Performed web scrape to find all available cities within the Teleport API."
   ]
  },
  {
   "cell_type": "code",
   "execution_count": 1,
   "metadata": {},
   "outputs": [],
   "source": [
    "from splinter import Browser\n",
    "from bs4 import BeautifulSoup as bs\n",
    "import pandas as pd\n",
    "import requests\n",
    "import json"
   ]
  },
  {
   "cell_type": "code",
   "execution_count": 2,
   "metadata": {},
   "outputs": [],
   "source": [
    "executable_path = {'executable_path': \"chromedriver.exe\"}\n",
    "browser = Browser('chrome', **executable_path, headless=True)\n",
    "url = \"https://teleport.org/cities/\"\n",
    "browser.visit(url)"
   ]
  },
  {
   "cell_type": "code",
   "execution_count": 3,
   "metadata": {},
   "outputs": [],
   "source": [
    "html = browser.html\n",
    "soup = bs(html, 'lxml')"
   ]
  },
  {
   "cell_type": "code",
   "execution_count": 4,
   "metadata": {},
   "outputs": [
    {
     "name": "stdout",
     "output_type": "stream",
     "text": [
      "[<a class=\"city___h3a92\" data-reactid=\"93\" href=\"/cities/aarhus/\">Aarhus</a>, <a class=\"city___h3a92\" data-reactid=\"94\" href=\"/cities/adelaide/\">Adelaide</a>, <a class=\"city___h3a92\" data-reactid=\"95\" href=\"/cities/albuquerque/\">Albuquerque</a>, <a class=\"city___h3a92\" data-reactid=\"96\" href=\"/cities/almaty/\">Almaty</a>, <a class=\"city___h3a92\" data-reactid=\"97\" href=\"/cities/amsterdam/\">Amsterdam</a>, <a class=\"city___h3a92\" data-reactid=\"98\" href=\"/cities/anchorage/\">Anchorage</a>, <a class=\"city___h3a92\" data-reactid=\"99\" href=\"/cities/andorra/\">Andorra</a>, <a class=\"city___h3a92\" data-reactid=\"100\" href=\"/cities/ankara/\">Ankara</a>, <a class=\"city___h3a92\" data-reactid=\"101\" href=\"/cities/asheville/\">Asheville</a>, <a class=\"city___h3a92\" data-reactid=\"102\" href=\"/cities/asuncion/\">Asuncion</a>, <a class=\"city___h3a92\" data-reactid=\"103\" href=\"/cities/athens/\">Athens</a>, <a class=\"city___h3a92\" data-reactid=\"104\" href=\"/cities/atlanta/\">Atlanta</a>, <a class=\"city___h3a92\" data-reactid=\"105\" href=\"/cities/auckland/\">Auckland</a>, <a class=\"city___h3a92\" data-reactid=\"106\" href=\"/cities/austin/\">Austin</a>, <a class=\"city___h3a92\" data-reactid=\"107\" href=\"/cities/baku/\">Baku</a>, <a class=\"city___h3a92\" data-reactid=\"108\" href=\"/cities/bali/\">Bali</a>, <a class=\"city___h3a92\" data-reactid=\"109\" href=\"/cities/baltimore/\">Baltimore</a>, <a class=\"city___h3a92\" data-reactid=\"110\" href=\"/cities/bangkok/\">Bangkok</a>, <a class=\"city___h3a92\" data-reactid=\"111\" href=\"/cities/barcelona/\">Barcelona</a>, <a class=\"city___h3a92\" data-reactid=\"112\" href=\"/cities/beijing/\">Beijing</a>, <a class=\"city___h3a92\" data-reactid=\"113\" href=\"/cities/beirut/\">Beirut</a>, <a class=\"city___h3a92\" data-reactid=\"114\" href=\"/cities/belfast/\">Belfast</a>, <a class=\"city___h3a92\" data-reactid=\"115\" href=\"/cities/belgrade/\">Belgrade</a>, <a class=\"city___h3a92\" data-reactid=\"116\" href=\"/cities/belize-city/\">Belize City</a>, <a class=\"city___h3a92\" data-reactid=\"117\" href=\"/cities/bengaluru/\">Bengaluru</a>, <a class=\"city___h3a92\" data-reactid=\"118\" href=\"/cities/bergen/\">Bergen</a>, <a class=\"city___h3a92\" data-reactid=\"119\" href=\"/cities/berlin/\">Berlin</a>, <a class=\"city___h3a92\" data-reactid=\"120\" href=\"/cities/bern/\">Bern</a>, <a class=\"city___h3a92\" data-reactid=\"121\" href=\"/cities/bilbao/\">Bilbao</a>, <a class=\"city___h3a92\" data-reactid=\"122\" href=\"/cities/birmingham/\">Birmingham</a>, <a class=\"city___h3a92\" data-reactid=\"123\" href=\"/cities/birmingham-al/\">Birmingham, AL</a>, <a class=\"city___h3a92\" data-reactid=\"124\" href=\"/cities/bogota/\">Bogota</a>, <a class=\"city___h3a92\" data-reactid=\"125\" href=\"/cities/boise/\">Boise</a>, <a class=\"city___h3a92\" data-reactid=\"126\" href=\"/cities/bologna/\">Bologna</a>, <a class=\"city___h3a92\" data-reactid=\"127\" href=\"/cities/bordeaux/\">Bordeaux</a>, <a class=\"city___h3a92\" data-reactid=\"128\" href=\"/cities/boston/\">Boston</a>, <a class=\"city___h3a92\" data-reactid=\"129\" href=\"/cities/boulder/\">Boulder</a>, <a class=\"city___h3a92\" data-reactid=\"130\" href=\"/cities/bozeman/\">Bozeman</a>, <a class=\"city___h3a92\" data-reactid=\"131\" href=\"/cities/bratislava/\">Bratislava</a>, <a class=\"city___h3a92\" data-reactid=\"132\" href=\"/cities/brighton/\">Brighton</a>, <a class=\"city___h3a92\" data-reactid=\"133\" href=\"/cities/brisbane/\">Brisbane</a>, <a class=\"city___h3a92\" data-reactid=\"134\" href=\"/cities/bristol/\">Bristol</a>, <a class=\"city___h3a92\" data-reactid=\"135\" href=\"/cities/brno/\">Brno</a>, <a class=\"city___h3a92\" data-reactid=\"136\" href=\"/cities/brussels/\">Brussels</a>, <a class=\"city___h3a92\" data-reactid=\"137\" href=\"/cities/bucharest/\">Bucharest</a>, <a class=\"city___h3a92\" data-reactid=\"138\" href=\"/cities/budapest/\">Budapest</a>, <a class=\"city___h3a92\" data-reactid=\"139\" href=\"/cities/buenos-aires/\">Buenos Aires</a>, <a class=\"city___h3a92\" data-reactid=\"140\" href=\"/cities/buffalo/\">Buffalo</a>, <a class=\"city___h3a92\" data-reactid=\"141\" href=\"/cities/cairo/\">Cairo</a>, <a class=\"city___h3a92\" data-reactid=\"142\" href=\"/cities/calgary/\">Calgary</a>, <a class=\"city___h3a92\" data-reactid=\"143\" href=\"/cities/cambridge/\">Cambridge</a>, <a class=\"city___h3a92\" data-reactid=\"144\" href=\"/cities/cape-town/\">Cape Town</a>, <a class=\"city___h3a92\" data-reactid=\"145\" href=\"/cities/caracas/\">Caracas</a>, <a class=\"city___h3a92\" data-reactid=\"146\" href=\"/cities/cardiff/\">Cardiff</a>, <a class=\"city___h3a92\" data-reactid=\"147\" href=\"/cities/casablanca/\">Casablanca</a>, <a class=\"city___h3a92\" data-reactid=\"148\" href=\"/cities/charleston/\">Charleston</a>, <a class=\"city___h3a92\" data-reactid=\"149\" href=\"/cities/charlotte/\">Charlotte</a>, <a class=\"city___h3a92\" data-reactid=\"150\" href=\"/cities/chattanooga/\">Chattanooga</a>, <a class=\"city___h3a92\" data-reactid=\"151\" href=\"/cities/chennai/\">Chennai</a>, <a class=\"city___h3a92\" data-reactid=\"152\" href=\"/cities/chiang-mai/\">Chiang Mai</a>, <a class=\"city___h3a92\" data-reactid=\"153\" href=\"/cities/chicago/\">Chicago</a>, <a class=\"city___h3a92\" data-reactid=\"154\" href=\"/cities/chisinau/\">Chisinau</a>, <a class=\"city___h3a92\" data-reactid=\"155\" href=\"/cities/christchurch/\">Christchurch</a>, <a class=\"city___h3a92\" data-reactid=\"156\" href=\"/cities/cincinnati/\">Cincinnati</a>, <a class=\"city___h3a92\" data-reactid=\"157\" href=\"/cities/cleveland/\">Cleveland</a>, <a class=\"city___h3a92\" data-reactid=\"158\" href=\"/cities/cluj-napoca/\">Cluj-Napoca</a>, <a class=\"city___h3a92\" data-reactid=\"159\" href=\"/cities/cologne/\">Cologne</a>, <a class=\"city___h3a92\" data-reactid=\"160\" href=\"/cities/colorado-springs/\">Colorado Springs</a>, <a class=\"city___h3a92\" data-reactid=\"161\" href=\"/cities/columbus/\">Columbus</a>, <a class=\"city___h3a92\" data-reactid=\"162\" href=\"/cities/copenhagen/\">Copenhagen</a>, <a class=\"city___h3a92\" data-reactid=\"163\" href=\"/cities/cork/\">Cork</a>, <a class=\"city___h3a92\" data-reactid=\"164\" href=\"/cities/curitiba/\">Curitiba</a>, <a class=\"city___h3a92\" data-reactid=\"165\" href=\"/cities/dallas/\">Dallas</a>, <a class=\"city___h3a92\" data-reactid=\"166\" href=\"/cities/dar-es-salaam/\">Dar es Salaam</a>, <a class=\"city___h3a92\" data-reactid=\"167\" href=\"/cities/delhi/\">Delhi</a>, <a class=\"city___h3a92\" data-reactid=\"168\" href=\"/cities/denver/\">Denver</a>, <a class=\"city___h3a92\" data-reactid=\"169\" href=\"/cities/des-moines/\">Des Moines</a>, <a class=\"city___h3a92\" data-reactid=\"170\" href=\"/cities/detroit/\">Detroit</a>, <a class=\"city___h3a92\" data-reactid=\"171\" href=\"/cities/doha/\">Doha</a>, <a class=\"city___h3a92\" data-reactid=\"172\" href=\"/cities/dresden/\">Dresden</a>, <a class=\"city___h3a92\" data-reactid=\"173\" href=\"/cities/dubai/\">Dubai</a>, <a class=\"city___h3a92\" data-reactid=\"174\" href=\"/cities/dublin/\">Dublin</a>, <a class=\"city___h3a92\" data-reactid=\"175\" href=\"/cities/dusseldorf/\">Dusseldorf</a>, <a class=\"city___h3a92\" data-reactid=\"176\" href=\"/cities/edinburgh/\">Edinburgh</a>, <a class=\"city___h3a92\" data-reactid=\"177\" href=\"/cities/edmonton/\">Edmonton</a>, <a class=\"city___h3a92\" data-reactid=\"178\" href=\"/cities/eindhoven/\">Eindhoven</a>, <a class=\"city___h3a92\" data-reactid=\"179\" href=\"/cities/eugene/\">Eugene</a>, <a class=\"city___h3a92\" data-reactid=\"180\" href=\"/cities/florence/\">Florence</a>, <a class=\"city___h3a92\" data-reactid=\"181\" href=\"/cities/florianopolis/\">Florianopolis</a>, <a class=\"city___h3a92\" data-reactid=\"182\" href=\"/cities/fort-collins/\">Fort Collins</a>, <a class=\"city___h3a92\" data-reactid=\"183\" href=\"/cities/frankfurt/\">Frankfurt</a>, <a class=\"city___h3a92\" data-reactid=\"184\" href=\"/cities/fukuoka/\">Fukuoka</a>, <a class=\"city___h3a92\" data-reactid=\"185\" href=\"/cities/gaillimh/\">Galway</a>, <a class=\"city___h3a92\" data-reactid=\"186\" href=\"/cities/gdansk/\">Gdansk</a>, <a class=\"city___h3a92\" data-reactid=\"187\" href=\"/cities/geneva/\">Geneva</a>, <a class=\"city___h3a92\" data-reactid=\"188\" href=\"/cities/gibraltar/\">Gibraltar</a>, <a class=\"city___h3a92\" data-reactid=\"189\" href=\"/cities/glasgow/\">Glasgow</a>, <a class=\"city___h3a92\" data-reactid=\"190\" href=\"/cities/gothenburg/\">Gothenburg</a>, <a class=\"city___h3a92\" data-reactid=\"191\" href=\"/cities/grenoble/\">Grenoble</a>, <a class=\"city___h3a92\" data-reactid=\"192\" href=\"/cities/guadalajara/\">Guadalajara</a>, <a class=\"city___h3a92\" data-reactid=\"193\" href=\"/cities/guatemala-city/\">Guatemala City</a>, <a class=\"city___h3a92\" data-reactid=\"194\" href=\"/cities/halifax/\">Halifax</a>, <a class=\"city___h3a92\" data-reactid=\"195\" href=\"/cities/hamburg/\">Hamburg</a>, <a class=\"city___h3a92\" data-reactid=\"196\" href=\"/cities/hannover/\">Hannover</a>, <a class=\"city___h3a92\" data-reactid=\"197\" href=\"/cities/havana/\">Havana</a>, <a class=\"city___h3a92\" data-reactid=\"198\" href=\"/cities/helsinki/\">Helsinki</a>, <a class=\"city___h3a92\" data-reactid=\"199\" href=\"/cities/ho-chi-minh-city/\">Ho Chi Minh City</a>, <a class=\"city___h3a92\" data-reactid=\"200\" href=\"/cities/hong-kong/\">Hong Kong</a>, <a class=\"city___h3a92\" data-reactid=\"201\" href=\"/cities/honolulu/\">Honolulu</a>, <a class=\"city___h3a92\" data-reactid=\"202\" href=\"/cities/houston/\">Houston</a>, <a class=\"city___h3a92\" data-reactid=\"203\" href=\"/cities/hyderabad/\">Hyderabad</a>, <a class=\"city___h3a92\" data-reactid=\"204\" href=\"/cities/indianapolis/\">Indianapolis</a>, <a class=\"city___h3a92\" data-reactid=\"205\" href=\"/cities/innsbruck/\">Innsbruck</a>, <a class=\"city___h3a92\" data-reactid=\"206\" href=\"/cities/istanbul/\">Istanbul</a>, <a class=\"city___h3a92\" data-reactid=\"207\" href=\"/cities/jacksonville/\">Jacksonville</a>, <a class=\"city___h3a92\" data-reactid=\"208\" href=\"/cities/jakarta/\">Jakarta</a>, <a class=\"city___h3a92\" data-reactid=\"209\" href=\"/cities/johannesburg/\">Johannesburg</a>, <a class=\"city___h3a92\" data-reactid=\"210\" href=\"/cities/kansas-city/\">Kansas City</a>, <a class=\"city___h3a92\" data-reactid=\"211\" href=\"/cities/karlsruhe/\">Karlsruhe</a>, <a class=\"city___h3a92\" data-reactid=\"212\" href=\"/cities/kathmandu/\">Kathmandu</a>, <a class=\"city___h3a92\" data-reactid=\"213\" href=\"/cities/kiev/\">Kiev</a>, <a class=\"city___h3a92\" data-reactid=\"214\" href=\"/cities/kingston/\">Kingston</a>, <a class=\"city___h3a92\" data-reactid=\"215\" href=\"/cities/knoxville/\">Knoxville</a>, <a class=\"city___h3a92\" data-reactid=\"216\" href=\"/cities/krakow/\">Krakow</a>, <a class=\"city___h3a92\" data-reactid=\"217\" href=\"/cities/kuala-lumpur/\">Kuala Lumpur</a>, <a class=\"city___h3a92\" data-reactid=\"218\" href=\"/cities/kyoto/\">Kyoto</a>, <a class=\"city___h3a92\" data-reactid=\"219\" href=\"/cities/lagos/\">Lagos</a>, <a class=\"city___h3a92\" data-reactid=\"220\" href=\"/cities/la-paz/\">La Paz</a>, <a class=\"city___h3a92\" data-reactid=\"221\" href=\"/cities/las-palmas-de-gran-canaria/\">Las Palmas de Gran Canaria</a>, <a class=\"city___h3a92\" data-reactid=\"222\" href=\"/cities/las-vegas/\">Las Vegas</a>, <a class=\"city___h3a92\" data-reactid=\"223\" href=\"/cities/lausanne/\">Lausanne</a>, <a class=\"city___h3a92\" data-reactid=\"224\" href=\"/cities/leeds/\">Leeds</a>, <a class=\"city___h3a92\" data-reactid=\"225\" href=\"/cities/leipzig/\">Leipzig</a>, <a class=\"city___h3a92\" data-reactid=\"226\" href=\"/cities/lille/\">Lille</a>, <a class=\"city___h3a92\" data-reactid=\"227\" href=\"/cities/lima/\">Lima</a>, <a class=\"city___h3a92\" data-reactid=\"228\" href=\"/cities/lisbon/\">Lisbon</a>, <a class=\"city___h3a92\" data-reactid=\"229\" href=\"/cities/liverpool/\">Liverpool</a>, <a class=\"city___h3a92\" data-reactid=\"230\" href=\"/cities/ljubljana/\">Ljubljana</a>, <a class=\"city___h3a92\" data-reactid=\"231\" href=\"/cities/london/\">London</a>, <a class=\"city___h3a92\" data-reactid=\"232\" href=\"/cities/los-angeles/\">Los Angeles</a>, <a class=\"city___h3a92\" data-reactid=\"233\" href=\"/cities/louisville/\">Louisville</a>, <a class=\"city___h3a92\" data-reactid=\"234\" href=\"/cities/luxembourg/\">Luxembourg</a>, <a class=\"city___h3a92\" data-reactid=\"235\" href=\"/cities/lviv/\">Lviv</a>, <a class=\"city___h3a92\" data-reactid=\"236\" href=\"/cities/lyon/\">Lyon</a>, <a class=\"city___h3a92\" data-reactid=\"237\" href=\"/cities/madison/\">Madison</a>, <a class=\"city___h3a92\" data-reactid=\"238\" href=\"/cities/madrid/\">Madrid</a>, <a class=\"city___h3a92\" data-reactid=\"239\" href=\"/cities/malaga/\">Malaga</a>, <a class=\"city___h3a92\" data-reactid=\"240\" href=\"/cities/malmo/\">Malmo</a>, <a class=\"city___h3a92\" data-reactid=\"241\" href=\"/cities/managua/\">Managua</a>, <a class=\"city___h3a92\" data-reactid=\"242\" href=\"/cities/manchester/\">Manchester</a>, <a class=\"city___h3a92\" data-reactid=\"243\" href=\"/cities/manila/\">Manila</a>, <a class=\"city___h3a92\" data-reactid=\"244\" href=\"/cities/marseille/\">Marseille</a>, <a class=\"city___h3a92\" data-reactid=\"245\" href=\"/cities/medellin/\">Medellin</a>, <a class=\"city___h3a92\" data-reactid=\"246\" href=\"/cities/melbourne/\">Melbourne</a>, <a class=\"city___h3a92\" data-reactid=\"247\" href=\"/cities/memphis/\">Memphis</a>, <a class=\"city___h3a92\" data-reactid=\"248\" href=\"/cities/mexico-city/\">Mexico City</a>, <a class=\"city___h3a92\" data-reactid=\"249\" href=\"/cities/miami/\">Miami</a>, <a class=\"city___h3a92\" data-reactid=\"250\" href=\"/cities/milan/\">Milan</a>, <a class=\"city___h3a92\" data-reactid=\"251\" href=\"/cities/milwaukee/\">Milwaukee</a>, <a class=\"city___h3a92\" data-reactid=\"252\" href=\"/cities/minneapolis-saint-paul/\">Minneapolis-Saint Paul</a>, <a class=\"city___h3a92\" data-reactid=\"253\" href=\"/cities/minsk/\">Minsk</a>, <a class=\"city___h3a92\" data-reactid=\"254\" href=\"/cities/montevideo/\">Montevideo</a>, <a class=\"city___h3a92\" data-reactid=\"255\" href=\"/cities/montreal/\">Montreal</a>, <a class=\"city___h3a92\" data-reactid=\"256\" href=\"/cities/moscow/\">Moscow</a>, <a class=\"city___h3a92\" data-reactid=\"257\" href=\"/cities/mumbai/\">Mumbai</a>, <a class=\"city___h3a92\" data-reactid=\"258\" href=\"/cities/munich/\">Munich</a>, <a class=\"city___h3a92\" data-reactid=\"259\" href=\"/cities/nairobi/\">Nairobi</a>, <a class=\"city___h3a92\" data-reactid=\"260\" href=\"/cities/nantes/\">Nantes</a>, <a class=\"city___h3a92\" data-reactid=\"261\" href=\"/cities/naples/\">Naples</a>, <a class=\"city___h3a92\" data-reactid=\"262\" href=\"/cities/nashville/\">Nashville</a>, <a class=\"city___h3a92\" data-reactid=\"263\" href=\"/cities/new-orleans/\">New Orleans</a>, <a class=\"city___h3a92\" data-reactid=\"264\" href=\"/cities/new-york/\">New York</a>, <a class=\"city___h3a92\" data-reactid=\"265\" href=\"/cities/nice/\">Nice</a>, <a class=\"city___h3a92\" data-reactid=\"266\" href=\"/cities/nicosia/\">Nicosia</a>, <a class=\"city___h3a92\" data-reactid=\"267\" href=\"/cities/oklahoma-city/\">Oklahoma City</a>, <a class=\"city___h3a92\" data-reactid=\"268\" href=\"/cities/omaha/\">Omaha</a>, <a class=\"city___h3a92\" data-reactid=\"269\" href=\"/cities/orlando/\">Orlando</a>, <a class=\"city___h3a92\" data-reactid=\"270\" href=\"/cities/osaka/\">Osaka</a>, <a class=\"city___h3a92\" data-reactid=\"271\" href=\"/cities/oslo/\">Oslo</a>, <a class=\"city___h3a92\" data-reactid=\"272\" href=\"/cities/ottawa/\">Ottawa</a>, <a class=\"city___h3a92\" data-reactid=\"273\" href=\"/cities/oulu/\">Oulu</a>, <a class=\"city___h3a92\" data-reactid=\"274\" href=\"/cities/oxford/\">Oxford</a>, <a class=\"city___h3a92\" data-reactid=\"275\" href=\"/cities/palo-alto/\">Palo Alto</a>, <a class=\"city___h3a92\" data-reactid=\"276\" href=\"/cities/panama/\">Panama</a>, <a class=\"city___h3a92\" data-reactid=\"277\" href=\"/cities/paris/\">Paris</a>, <a class=\"city___h3a92\" data-reactid=\"278\" href=\"/cities/perth/\">Perth</a>, <a class=\"city___h3a92\" data-reactid=\"279\" href=\"/cities/philadelphia/\">Philadelphia</a>, <a class=\"city___h3a92\" data-reactid=\"280\" href=\"/cities/phnom-penh/\">Phnom Penh</a>, <a class=\"city___h3a92\" data-reactid=\"281\" href=\"/cities/phoenix/\">Phoenix</a>, <a class=\"city___h3a92\" data-reactid=\"282\" href=\"/cities/phuket/\">Phuket</a>, <a class=\"city___h3a92\" data-reactid=\"283\" href=\"/cities/pittsburgh/\">Pittsburgh</a>, <a class=\"city___h3a92\" data-reactid=\"284\" href=\"/cities/portland-me/\">Portland, ME</a>, <a class=\"city___h3a92\" data-reactid=\"285\" href=\"/cities/portland-or/\">Portland, OR</a>, <a class=\"city___h3a92\" data-reactid=\"286\" href=\"/cities/porto/\">Porto</a>, <a class=\"city___h3a92\" data-reactid=\"287\" href=\"/cities/porto-alegre/\">Porto Alegre</a>, <a class=\"city___h3a92\" data-reactid=\"288\" href=\"/cities/prague/\">Prague</a>, <a class=\"city___h3a92\" data-reactid=\"289\" href=\"/cities/providence/\">Providence</a>, <a class=\"city___h3a92\" data-reactid=\"290\" href=\"/cities/quebec/\">Quebec</a>, <a class=\"city___h3a92\" data-reactid=\"291\" href=\"/cities/quito/\">Quito</a>, <a class=\"city___h3a92\" data-reactid=\"292\" href=\"/cities/raleigh/\">Raleigh</a>, <a class=\"city___h3a92\" data-reactid=\"293\" href=\"/cities/reykjavik/\">Reykjavik</a>, <a class=\"city___h3a92\" data-reactid=\"294\" href=\"/cities/richmond/\">Richmond</a>, <a class=\"city___h3a92\" data-reactid=\"295\" href=\"/cities/riga/\">Riga</a>, <a class=\"city___h3a92\" data-reactid=\"296\" href=\"/cities/rio-de-janeiro/\">Rio De Janeiro</a>, <a class=\"city___h3a92\" data-reactid=\"297\" href=\"/cities/riyadh/\">Riyadh</a>, <a class=\"city___h3a92\" data-reactid=\"298\" href=\"/cities/rochester/\">Rochester</a>, <a class=\"city___h3a92\" data-reactid=\"299\" href=\"/cities/rome/\">Rome</a>, <a class=\"city___h3a92\" data-reactid=\"300\" href=\"/cities/rotterdam/\">Rotterdam</a>, <a class=\"city___h3a92\" data-reactid=\"301\" href=\"/cities/saint-petersburg/\">Saint Petersburg</a>, <a class=\"city___h3a92\" data-reactid=\"302\" href=\"/cities/salt-lake-city/\">Salt Lake City</a>, <a class=\"city___h3a92\" data-reactid=\"303\" href=\"/cities/san-antonio/\">San Antonio</a>, <a class=\"city___h3a92\" data-reactid=\"304\" href=\"/cities/san-diego/\">San Diego</a>, <a class=\"city___h3a92\" data-reactid=\"305\" href=\"/cities/san-francisco-bay-area/\">San Francisco Bay Area</a>, <a class=\"city___h3a92\" data-reactid=\"306\" href=\"/cities/san-jose/\">San Jose</a>, <a class=\"city___h3a92\" data-reactid=\"307\" href=\"/cities/san-juan/\">San Juan</a>, <a class=\"city___h3a92\" data-reactid=\"308\" href=\"/cities/san-luis-obispo/\">San Luis Obispo</a>, <a class=\"city___h3a92\" data-reactid=\"309\" href=\"/cities/san-salvador/\">San Salvador</a>, <a class=\"city___h3a92\" data-reactid=\"310\" href=\"/cities/santiago/\">Santiago</a>, <a class=\"city___h3a92\" data-reactid=\"311\" href=\"/cities/santo-domingo/\">Santo Domingo</a>, <a class=\"city___h3a92\" data-reactid=\"312\" href=\"/cities/sao-paulo/\">Sao Paulo</a>, <a class=\"city___h3a92\" data-reactid=\"313\" href=\"/cities/sarajevo/\">Sarajevo</a>, <a class=\"city___h3a92\" data-reactid=\"314\" href=\"/cities/saskatoon/\">Saskatoon</a>, <a class=\"city___h3a92\" data-reactid=\"315\" href=\"/cities/seattle/\">Seattle</a>, <a class=\"city___h3a92\" data-reactid=\"316\" href=\"/cities/seoul/\">Seoul</a>, <a class=\"city___h3a92\" data-reactid=\"317\" href=\"/cities/seville/\">Seville</a>, <a class=\"city___h3a92\" data-reactid=\"318\" href=\"/cities/shanghai/\">Shanghai</a>, <a class=\"city___h3a92\" data-reactid=\"319\" href=\"/cities/singapore/\">Singapore</a>, <a class=\"city___h3a92\" data-reactid=\"320\" href=\"/cities/skopje/\">Skopje</a>, <a class=\"city___h3a92\" data-reactid=\"321\" href=\"/cities/sofia/\">Sofia</a>, <a class=\"city___h3a92\" data-reactid=\"322\" href=\"/cities/st-louis/\">St. Louis</a>, <a class=\"city___h3a92\" data-reactid=\"323\" href=\"/cities/stockholm/\">Stockholm</a>, <a class=\"city___h3a92\" data-reactid=\"324\" href=\"/cities/stuttgart/\">Stuttgart</a>, <a class=\"city___h3a92\" data-reactid=\"325\" href=\"/cities/sydney/\">Sydney</a>, <a class=\"city___h3a92\" data-reactid=\"326\" href=\"/cities/taipei/\">Taipei</a>, <a class=\"city___h3a92\" data-reactid=\"327\" href=\"/cities/tallinn/\">Tallinn</a>, <a class=\"city___h3a92\" data-reactid=\"328\" href=\"/cities/tampa-bay-area/\">Tampa Bay Area</a>, <a class=\"city___h3a92\" data-reactid=\"329\" href=\"/cities/tampere/\">Tampere</a>, <a class=\"city___h3a92\" data-reactid=\"330\" href=\"/cities/tartu/\">Tartu</a>, <a class=\"city___h3a92\" data-reactid=\"331\" href=\"/cities/tashkent/\">Tashkent</a>, <a class=\"city___h3a92\" data-reactid=\"332\" href=\"/cities/tbilisi/\">Tbilisi</a>, <a class=\"city___h3a92\" data-reactid=\"333\" href=\"/cities/tehran/\">Tehran</a>, <a class=\"city___h3a92\" data-reactid=\"334\" href=\"/cities/tel-aviv/\">Tel Aviv</a>, <a class=\"city___h3a92\" data-reactid=\"335\" href=\"/cities/the-hague/\">The Hague</a>, <a class=\"city___h3a92\" data-reactid=\"336\" href=\"/cities/thessaloniki/\">Thessaloniki</a>, <a class=\"city___h3a92\" data-reactid=\"337\" href=\"/cities/tokyo/\">Tokyo</a>, <a class=\"city___h3a92\" data-reactid=\"338\" href=\"/cities/toronto/\">Toronto</a>, <a class=\"city___h3a92\" data-reactid=\"339\" href=\"/cities/toulouse/\">Toulouse</a>, <a class=\"city___h3a92\" data-reactid=\"340\" href=\"/cities/tunis/\">Tunis</a>, <a class=\"city___h3a92\" data-reactid=\"341\" href=\"/cities/turin/\">Turin</a>, <a class=\"city___h3a92\" data-reactid=\"342\" href=\"/cities/turku/\">Turku</a>, <a class=\"city___h3a92\" data-reactid=\"343\" href=\"/cities/uppsala/\">Uppsala</a>, <a class=\"city___h3a92\" data-reactid=\"344\" href=\"/cities/utrecht/\">Utrecht</a>, <a class=\"city___h3a92\" data-reactid=\"345\" href=\"/cities/valencia/\">Valencia</a>, <a class=\"city___h3a92\" data-reactid=\"346\" href=\"/cities/valletta/\">Valletta</a>, <a class=\"city___h3a92\" data-reactid=\"347\" href=\"/cities/vancouver/\">Vancouver</a>, <a class=\"city___h3a92\" data-reactid=\"348\" href=\"/cities/victoria/\">Victoria</a>, <a class=\"city___h3a92\" data-reactid=\"349\" href=\"/cities/vienna/\">Vienna</a>, <a class=\"city___h3a92\" data-reactid=\"350\" href=\"/cities/vilnius/\">Vilnius</a>, <a class=\"city___h3a92\" data-reactid=\"351\" href=\"/cities/warsaw/\">Warsaw</a>, <a class=\"city___h3a92\" data-reactid=\"352\" href=\"/cities/washington-dc/\">Washington, D.C.</a>, <a class=\"city___h3a92\" data-reactid=\"353\" href=\"/cities/wellington/\">Wellington</a>, <a class=\"city___h3a92\" data-reactid=\"354\" href=\"/cities/winnipeg/\">Winnipeg</a>, <a class=\"city___h3a92\" data-reactid=\"355\" href=\"/cities/wroclaw/\">Wroclaw</a>, <a class=\"city___h3a92\" data-reactid=\"356\" href=\"/cities/yerevan/\">Yerevan</a>, <a class=\"city___h3a92\" data-reactid=\"357\" href=\"/cities/zagreb/\">Zagreb</a>, <a class=\"city___h3a92\" data-reactid=\"358\" href=\"/cities/zurich/\">Zurich</a>]\n"
     ]
    }
   ],
   "source": [
    "cities = soup.find_all(class_=\"city___h3a92\")\n",
    "print(cities)"
   ]
  },
  {
   "cell_type": "code",
   "execution_count": 5,
   "metadata": {},
   "outputs": [
    {
     "name": "stdout",
     "output_type": "stream",
     "text": [
      "['/cities/valencia/', '/cities/turku/', '/cities/bologna/', '/cities/boise/', '/cities/philadelphia/', '/cities/bozeman/', '/cities/bali/', '/cities/caracas/', '/cities/palo-alto/', '/cities/dar-es-salaam/', '/cities/memphis/', '/cities/bogota/', '/cities/athens/', '/cities/copenhagen/', '/cities/krakow/', '/cities/dallas/', '/cities/rio-de-janeiro/', '/cities/las-palmas-de-gran-canaria/', '/cities/providence/', '/cities/san-antonio/', '/cities/kiev/', '/cities/tel-aviv/', '/cities/lviv/', '/cities/phuket/', '/cities/kingston/', '/cities/salt-lake-city/', '/cities/fort-collins/', '/cities/leipzig/', '/cities/melbourne/', '/cities/nantes/', '/cities/orlando/', '/cities/austin/', '/cities/innsbruck/', '/cities/luxembourg/', '/cities/santiago/', '/cities/liverpool/', '/cities/beirut/', '/cities/cardiff/', '/cities/bangkok/', '/cities/vilnius/', '/cities/oulu/', '/cities/florianopolis/', '/cities/knoxville/', '/cities/lima/', '/cities/san-francisco-bay-area/', '/cities/madison/', '/cities/houston/', '/cities/eindhoven/', '/cities/kathmandu/', '/cities/san-diego/', '/cities/warsaw/', '/cities/minneapolis-saint-paul/', '/cities/dresden/', '/cities/cluj-napoca/', '/cities/bengaluru/', '/cities/doha/', '/cities/minsk/', '/cities/saint-petersburg/', '/cities/guatemala-city/', '/cities/edinburgh/', '/cities/vancouver/', '/cities/seoul/', '/cities/tehran/', '/cities/thessaloniki/', '/cities/mexico-city/', '/cities/brisbane/', '/cities/christchurch/', '/cities/tbilisi/', '/cities/uppsala/', '/cities/tunis/', '/cities/asheville/', '/cities/chattanooga/', '/cities/ho-chi-minh-city/', '/cities/boston/', '/cities/kuala-lumpur/', '/cities/birmingham/', '/cities/stuttgart/', '/cities/phoenix/', '/cities/cork/', '/cities/ottawa/', '/cities/belfast/', '/cities/sofia/', '/cities/brussels/', '/cities/auckland/', '/cities/manchester/', '/cities/belize-city/', '/cities/jakarta/', '/cities/marseille/', '/cities/naples/', '/cities/porto-alegre/', '/cities/raleigh/', '/cities/saskatoon/', '/cities/oklahoma-city/', '/cities/detroit/', '/cities/glasgow/', '/cities/karlsruhe/', '/cities/andorra/', '/cities/edmonton/', '/cities/san-jose/', '/cities/oslo/', '/cities/portland-me/', '/cities/tartu/', '/cities/almaty/', '/cities/bratislava/', '/cities/vienna/', '/cities/rotterdam/', '/cities/new-york/', '/cities/halifax/', '/cities/columbus/', '/cities/cleveland/', '/cities/madrid/', '/cities/perth/', '/cities/leeds/', '/cities/tokyo/', '/cities/phnom-penh/', '/cities/colorado-springs/', '/cities/honolulu/', '/cities/toulouse/', '/cities/montreal/', '/cities/zagreb/', '/cities/chiang-mai/', '/cities/munich/', '/cities/malaga/', '/cities/moscow/', '/cities/milwaukee/', '/cities/seville/', '/cities/amsterdam/', '/cities/the-hague/', '/cities/budapest/', '/cities/louisville/', '/cities/aarhus/', '/cities/kyoto/', '/cities/milan/', '/cities/osaka/', '/cities/wroclaw/', '/cities/montevideo/', '/cities/london/', '/cities/bucharest/', '/cities/san-salvador/', '/cities/seattle/', '/cities/boulder/', '/cities/gibraltar/', '/cities/hamburg/', '/cities/lagos/', '/cities/curitiba/', '/cities/lausanne/', '/cities/valletta/', '/cities/nicosia/', '/cities/buenos-aires/', '/cities/las-vegas/', '/cities/barcelona/', '/cities/miami/', '/cities/quito/', '/cities/toronto/', '/cities/paris/', '/cities/cape-town/', '/cities/charleston/', '/cities/tampere/', '/cities/wellington/', '/cities/winnipeg/', '/cities/yerevan/', '/cities/cincinnati/', '/cities/casablanca/', '/cities/gothenburg/', '/cities/washington-dc/', '/cities/medellin/', '/cities/cambridge/', '/cities/riyadh/', '/cities/ankara/', '/cities/berlin/', '/cities/cairo/', '/cities/gaillimh/', '/cities/charlotte/', '/cities/chicago/', '/cities/delhi/', '/cities/dublin/', '/cities/istanbul/', '/cities/anchorage/', '/cities/jacksonville/', '/cities/mumbai/', '/cities/frankfurt/', '/cities/skopje/', '/cities/chisinau/', '/cities/lille/', '/cities/adelaide/', '/cities/singapore/', '/cities/reykjavik/', '/cities/indianapolis/', '/cities/dubai/', '/cities/riga/', '/cities/rome/', '/cities/sydney/', '/cities/eugene/', '/cities/shanghai/', '/cities/zurich/', '/cities/johannesburg/', '/cities/hannover/', '/cities/denver/', '/cities/bergen/', '/cities/nairobi/', '/cities/omaha/', '/cities/tallinn/', '/cities/geneva/', '/cities/brno/', '/cities/los-angeles/', '/cities/atlanta/', '/cities/calgary/', '/cities/malmo/', '/cities/santo-domingo/', '/cities/utrecht/', '/cities/fukuoka/', '/cities/turin/', '/cities/porto/', '/cities/prague/', '/cities/bern/', '/cities/stockholm/', '/cities/des-moines/', '/cities/florence/', '/cities/manila/', '/cities/baku/', '/cities/bordeaux/', '/cities/lyon/', '/cities/portland-or/', '/cities/victoria/', '/cities/bilbao/', '/cities/panama/', '/cities/beijing/', '/cities/st-louis/', '/cities/san-luis-obispo/', '/cities/chennai/', '/cities/quebec/', '/cities/kansas-city/', '/cities/buffalo/', '/cities/grenoble/', '/cities/birmingham-al/', '/cities/brighton/', '/cities/dusseldorf/', '/cities/gdansk/', '/cities/nashville/', '/cities/san-juan/', '/cities/guadalajara/', '/cities/baltimore/', '/cities/cologne/', '/cities/sarajevo/', '/cities/hyderabad/', '/cities/lisbon/', '/cities/havana/', '/cities/helsinki/', '/cities/sao-paulo/', '/cities/bristol/', '/cities/tashkent/', '/cities/nice/', '/cities/new-orleans/', '/cities/pittsburgh/', '/cities/rochester/', '/cities/taipei/', '/cities/asuncion/', '/cities/albuquerque/', '/cities/ljubljana/', '/cities/richmond/', '/cities/belgrade/', '/cities/hong-kong/', '/cities/tampa-bay-area/', '/cities/la-paz/', '/cities/oxford/', '/cities/managua/']\n"
     ]
    },
    {
     "data": {
      "text/plain": [
       "266"
      ]
     },
     "execution_count": 5,
     "metadata": {},
     "output_type": "execute_result"
    }
   ],
   "source": [
    "pg_src = []\n",
    "\n",
    "for href in cities:\n",
    "    if href['href']:\n",
    "        if \"cities\" in href['href']:\n",
    "            pg_src.append(href['href'])\n",
    "            \n",
    "print(list(set(pg_src)))\n",
    "len(pg_src)"
   ]
  },
  {
   "cell_type": "code",
   "execution_count": 6,
   "metadata": {},
   "outputs": [
    {
     "name": "stdout",
     "output_type": "stream",
     "text": [
      "https://teleport.org/cities/aarhus/\n"
     ]
    }
   ],
   "source": [
    "base_page = \"https://teleport.org\"\n",
    "city_page1 = f\"{base_page}{pg_src[0]}\"\n",
    "print(city_page1)"
   ]
  },
  {
   "cell_type": "code",
   "execution_count": 7,
   "metadata": {},
   "outputs": [],
   "source": [
    "browser.visit(city_page1)\n",
    "html = browser.html\n",
    "soup = bs(html, 'lxml')"
   ]
  },
  {
   "cell_type": "code",
   "execution_count": 8,
   "metadata": {},
   "outputs": [
    {
     "name": "stdout",
     "output_type": "stream",
     "text": [
      "Aarhus\n"
     ]
    }
   ],
   "source": [
    "city_name = soup.find(class_=\"name___1Y7Q-\").text\n",
    "print(city_name)"
   ]
  },
  {
   "cell_type": "code",
   "execution_count": 9,
   "metadata": {},
   "outputs": [],
   "source": [
    "browser.quit()"
   ]
  },
  {
   "cell_type": "code",
   "execution_count": 10,
   "metadata": {},
   "outputs": [],
   "source": [
    "executable_path = {'executable_path': \"chromedriver.exe\"}\n",
    "browser = Browser('chrome', **executable_path, headless=True)"
   ]
  },
  {
   "cell_type": "code",
   "execution_count": 16,
   "metadata": {},
   "outputs": [
    {
     "name": "stdout",
     "output_type": "stream",
     "text": [
      "['Aarhus', 'Adelaide', 'Albuquerque', 'Almaty', 'Amsterdam', 'Anchorage', 'Andorra', 'Ankara', 'Asheville', 'Asuncion', 'Athens', 'Atlanta', 'Auckland', 'Austin', 'Baku', 'Bali', 'Baltimore', 'Bangkok', 'Barcelona', 'Beijing', 'Beirut', 'Belfast', 'Belgrade', 'Belize City', 'Bengaluru', 'Bergen', 'Berlin', 'Bern', 'Bilbao', 'Birmingham', 'Birmingham, AL', 'Bogota', 'Boise', 'Bologna', 'Bordeaux', 'Boston', 'Boulder', 'Bozeman', 'Bratislava', 'Brighton', 'Brisbane', 'Bristol', 'Brno', 'Brussels', 'Bucharest', 'Budapest', 'Buenos Aires', 'Buffalo', 'Cairo', 'Calgary', 'Cambridge', 'Cape Town', 'Caracas', 'Cardiff', 'Casablanca', 'Charleston', 'Charlotte', 'Chattanooga', 'Chennai', 'Chiang Mai', 'Chicago', 'Chisinau', 'Christchurch', 'Cincinnati', 'Cleveland', 'Cluj-Napoca', 'Cologne', 'Colorado Springs', 'Columbus', 'Copenhagen', 'Cork', 'Curitiba', 'Dallas', 'Dar es Salaam', 'Delhi', 'Denver', 'Des Moines', 'Detroit', 'Doha', 'Dresden', 'Dubai', 'Dublin', 'Dusseldorf', 'Edinburgh', 'Edmonton', 'Eindhoven', 'Eugene', 'Florence', 'Florianopolis', 'Fort Collins', 'Frankfurt', 'Fukuoka', 'Galway', 'Gdansk', 'Geneva', 'Gibraltar', 'Glasgow', 'Gothenburg', 'Grenoble', 'Guadalajara', 'Guatemala City', 'Halifax', 'Hamburg', 'Hannover', 'Havana', 'Helsinki', 'Ho Chi Minh City', 'Hong Kong', 'Honolulu', 'Houston', 'Hyderabad', 'Indianapolis', 'Innsbruck', 'Istanbul', 'Jacksonville', 'Jakarta', 'Johannesburg', 'Kansas City', 'Karlsruhe', 'Kathmandu', 'Kiev', 'Kingston', 'Knoxville', 'Krakow', 'Kuala Lumpur', 'Kyoto', 'Lagos', 'La Paz', 'Las Palmas de Gran Canaria', 'Las Vegas', 'Lausanne', 'Leeds', 'Leipzig', 'Lille', 'Lima', 'Lisbon', 'Liverpool', 'Ljubljana', 'London', 'Los Angeles', 'Louisville', 'Luxembourg', 'Lviv', 'Lyon', 'Madison', 'Madrid', 'Malaga', 'Malmo', 'Managua', 'Manchester', 'Manila', 'Marseille', 'Medellin', 'Melbourne', 'Memphis', 'Mexico City', 'Miami', 'Milan', 'Milwaukee', 'Minneapolis-Saint Paul', 'Minsk', 'Montevideo', 'Montreal', 'Moscow', 'Mumbai', 'Munich', 'Nairobi', 'Nantes', 'Naples', 'Nashville', 'New Orleans', 'New York', 'Nice', 'Nicosia', 'Oklahoma City', 'Omaha', 'Orlando', 'Osaka', 'Oslo', 'Ottawa', 'Oulu', 'Oxford', 'Palo Alto', 'Panama', 'Paris', 'Perth', 'Philadelphia', 'Phnom Penh', 'Phoenix', 'Phuket', 'Pittsburgh', 'Portland, ME', 'Portland, OR', 'Porto', 'Porto Alegre', 'Prague', 'Providence', 'Quebec', 'Quito', 'Raleigh', 'Reykjavik', 'Richmond', 'Riga', 'Rio De Janeiro', 'Riyadh', 'Rochester', 'Rome', 'Rotterdam', 'Saint Petersburg', 'Salt Lake City', 'San Antonio', 'San Diego', 'San Francisco Bay Area', 'San Jose', 'San Juan', 'San Luis Obispo', 'San Salvador', 'Santiago', 'Santo Domingo', 'Sao Paulo', 'Sarajevo', 'Saskatoon', 'Seattle', 'Seoul', 'Seville', 'Shanghai', 'Singapore', 'Skopje', 'Sofia', 'St. Louis', 'Stockholm', 'Stuttgart', 'Sydney', 'Taipei', 'Tallinn', 'Tampa Bay Area', 'Tampere', 'Tartu', 'Tashkent', 'Tbilisi', 'Tehran', 'Tel Aviv', 'The Hague', 'Thessaloniki', 'Tokyo', 'Toronto', 'Toulouse', 'Tunis', 'Turin', 'Turku', 'Uppsala', 'Utrecht', 'Valencia', 'Valletta', 'Vancouver', 'Victoria', 'Vienna', 'Vilnius', 'Warsaw', 'Washington, D.C.', 'Wellington', 'Winnipeg', 'Wroclaw', 'Yerevan', 'Zagreb', 'Zurich']\n"
     ]
    }
   ],
   "source": [
    "base_page = \"https://teleport.org\"\n",
    "cityNames = []\n",
    "for x in range(266):\n",
    "    city_page = f\"{base_page}{pg_src[x]}\"\n",
    "    browser.visit(city_page)\n",
    "    html = browser.html\n",
    "    soup = bs(html, \"lxml\")\n",
    "    city_name = soup.find(class_=\"name___1Y7Q-\").text\n",
    "    cityNames.append(city_name)\n",
    "time.sleep(1)\n",
    "print(cityNames)"
   ]
  },
  {
   "cell_type": "code",
   "execution_count": 17,
   "metadata": {},
   "outputs": [
    {
     "name": "stdout",
     "output_type": "stream",
     "text": [
      "['Aarhus', 'Adelaide', 'Albuquerque', 'Almaty', 'Amsterdam', 'Anchorage', 'Andorra', 'Ankara', 'Asheville', 'Asuncion', 'Athens', 'Atlanta', 'Auckland', 'Austin', 'Baku', 'Bali', 'Baltimore', 'Bangkok', 'Barcelona', 'Beijing', 'Beirut', 'Belfast', 'Belgrade', 'Belize City', 'Bengaluru', 'Bergen', 'Berlin', 'Bern', 'Bilbao', 'Birmingham', 'Birmingham, AL', 'Bogota', 'Boise', 'Bologna', 'Bordeaux', 'Boston', 'Boulder', 'Bozeman', 'Bratislava', 'Brighton', 'Brisbane', 'Bristol', 'Brno', 'Brussels', 'Bucharest', 'Budapest', 'Buenos Aires', 'Buffalo', 'Cairo', 'Calgary', 'Cambridge', 'Cape Town', 'Caracas', 'Cardiff', 'Casablanca', 'Charleston', 'Charlotte', 'Chattanooga', 'Chennai', 'Chiang Mai', 'Chicago', 'Chisinau', 'Christchurch', 'Cincinnati', 'Cleveland', 'Cluj-Napoca', 'Cologne', 'Colorado Springs', 'Columbus', 'Copenhagen', 'Cork', 'Curitiba', 'Dallas', 'Dar es Salaam', 'Delhi', 'Denver', 'Des Moines', 'Detroit', 'Doha', 'Dresden', 'Dubai', 'Dublin', 'Dusseldorf', 'Edinburgh', 'Edmonton', 'Eindhoven', 'Eugene', 'Florence', 'Florianopolis', 'Fort Collins', 'Frankfurt', 'Fukuoka', 'Galway', 'Gdansk', 'Geneva', 'Gibraltar', 'Glasgow', 'Gothenburg', 'Grenoble', 'Guadalajara', 'Guatemala City', 'Halifax', 'Hamburg', 'Hannover', 'Havana', 'Helsinki', 'Ho Chi Minh City', 'Hong Kong', 'Honolulu', 'Houston', 'Hyderabad', 'Indianapolis', 'Innsbruck', 'Istanbul', 'Jacksonville', 'Jakarta', 'Johannesburg', 'Kansas City', 'Karlsruhe', 'Kathmandu', 'Kiev', 'Kingston', 'Knoxville', 'Krakow', 'Kuala Lumpur', 'Kyoto', 'Lagos', 'La Paz', 'Las Palmas de Gran Canaria', 'Las Vegas', 'Lausanne', 'Leeds', 'Leipzig', 'Lille', 'Lima', 'Lisbon', 'Liverpool', 'Ljubljana', 'London', 'Los Angeles', 'Louisville', 'Luxembourg', 'Lviv', 'Lyon', 'Madison', 'Madrid', 'Malaga', 'Malmo', 'Managua', 'Manchester', 'Manila', 'Marseille', 'Medellin', 'Melbourne', 'Memphis', 'Mexico City', 'Miami', 'Milan', 'Milwaukee', 'Minneapolis-Saint Paul', 'Minsk', 'Montevideo', 'Montreal', 'Moscow', 'Mumbai', 'Munich', 'Nairobi', 'Nantes', 'Naples', 'Nashville', 'New Orleans', 'New York', 'Nice', 'Nicosia', 'Oklahoma City', 'Omaha', 'Orlando', 'Osaka', 'Oslo', 'Ottawa', 'Oulu', 'Oxford', 'Palo Alto', 'Panama', 'Paris', 'Perth', 'Philadelphia', 'Phnom Penh', 'Phoenix', 'Phuket', 'Pittsburgh', 'Portland, ME', 'Portland, OR', 'Porto', 'Porto Alegre', 'Prague', 'Providence', 'Quebec', 'Quito', 'Raleigh', 'Reykjavik', 'Richmond', 'Riga', 'Rio De Janeiro', 'Riyadh', 'Rochester', 'Rome', 'Rotterdam', 'Saint Petersburg', 'Salt Lake City', 'San Antonio', 'San Diego', 'San Francisco Bay Area', 'San Jose', 'San Juan', 'San Luis Obispo', 'San Salvador', 'Santiago', 'Santo Domingo', 'Sao Paulo', 'Sarajevo', 'Saskatoon', 'Seattle', 'Seoul', 'Seville', 'Shanghai', 'Singapore', 'Skopje', 'Sofia', 'St. Louis', 'Stockholm', 'Stuttgart', 'Sydney', 'Taipei', 'Tallinn', 'Tampa Bay Area', 'Tampere', 'Tartu', 'Tashkent', 'Tbilisi', 'Tehran', 'Tel Aviv', 'The Hague', 'Thessaloniki', 'Tokyo', 'Toronto', 'Toulouse', 'Tunis', 'Turin', 'Turku', 'Uppsala', 'Utrecht', 'Valencia', 'Valletta', 'Vancouver', 'Victoria', 'Vienna', 'Vilnius', 'Warsaw', 'Washington, D.C.', 'Wellington', 'Winnipeg', 'Wroclaw', 'Yerevan', 'Zagreb', 'Zurich']\n"
     ]
    },
    {
     "data": {
      "text/plain": [
       "266"
      ]
     },
     "execution_count": 17,
     "metadata": {},
     "output_type": "execute_result"
    }
   ],
   "source": [
    "print(cityNames)\n",
    "len(cityNames)"
   ]
  },
  {
   "cell_type": "code",
   "execution_count": 18,
   "metadata": {},
   "outputs": [
    {
     "name": "stdout",
     "output_type": "stream",
     "text": [
      "['https://api.teleport.org/api/urban_areas/slug:aarhus/scores/', 'https://api.teleport.org/api/urban_areas/slug:adelaide/scores/', 'https://api.teleport.org/api/urban_areas/slug:albuquerque/scores/', 'https://api.teleport.org/api/urban_areas/slug:almaty/scores/', 'https://api.teleport.org/api/urban_areas/slug:amsterdam/scores/', 'https://api.teleport.org/api/urban_areas/slug:anchorage/scores/', 'https://api.teleport.org/api/urban_areas/slug:andorra/scores/', 'https://api.teleport.org/api/urban_areas/slug:ankara/scores/', 'https://api.teleport.org/api/urban_areas/slug:asheville/scores/', 'https://api.teleport.org/api/urban_areas/slug:asuncion/scores/', 'https://api.teleport.org/api/urban_areas/slug:athens/scores/', 'https://api.teleport.org/api/urban_areas/slug:atlanta/scores/', 'https://api.teleport.org/api/urban_areas/slug:auckland/scores/', 'https://api.teleport.org/api/urban_areas/slug:austin/scores/', 'https://api.teleport.org/api/urban_areas/slug:baku/scores/', 'https://api.teleport.org/api/urban_areas/slug:bali/scores/', 'https://api.teleport.org/api/urban_areas/slug:baltimore/scores/', 'https://api.teleport.org/api/urban_areas/slug:bangkok/scores/', 'https://api.teleport.org/api/urban_areas/slug:barcelona/scores/', 'https://api.teleport.org/api/urban_areas/slug:beijing/scores/', 'https://api.teleport.org/api/urban_areas/slug:beirut/scores/', 'https://api.teleport.org/api/urban_areas/slug:belfast/scores/', 'https://api.teleport.org/api/urban_areas/slug:belgrade/scores/', 'https://api.teleport.org/api/urban_areas/slug:belize-city/scores/', 'https://api.teleport.org/api/urban_areas/slug:bengaluru/scores/', 'https://api.teleport.org/api/urban_areas/slug:bergen/scores/', 'https://api.teleport.org/api/urban_areas/slug:berlin/scores/', 'https://api.teleport.org/api/urban_areas/slug:bern/scores/', 'https://api.teleport.org/api/urban_areas/slug:bilbao/scores/', 'https://api.teleport.org/api/urban_areas/slug:birmingham/scores/', 'https://api.teleport.org/api/urban_areas/slug:birmingham-al/scores/', 'https://api.teleport.org/api/urban_areas/slug:bogota/scores/', 'https://api.teleport.org/api/urban_areas/slug:boise/scores/', 'https://api.teleport.org/api/urban_areas/slug:bologna/scores/', 'https://api.teleport.org/api/urban_areas/slug:bordeaux/scores/', 'https://api.teleport.org/api/urban_areas/slug:boston/scores/', 'https://api.teleport.org/api/urban_areas/slug:boulder/scores/', 'https://api.teleport.org/api/urban_areas/slug:bozeman/scores/', 'https://api.teleport.org/api/urban_areas/slug:bratislava/scores/', 'https://api.teleport.org/api/urban_areas/slug:brighton/scores/', 'https://api.teleport.org/api/urban_areas/slug:brisbane/scores/', 'https://api.teleport.org/api/urban_areas/slug:bristol/scores/', 'https://api.teleport.org/api/urban_areas/slug:brno/scores/', 'https://api.teleport.org/api/urban_areas/slug:brussels/scores/', 'https://api.teleport.org/api/urban_areas/slug:bucharest/scores/', 'https://api.teleport.org/api/urban_areas/slug:budapest/scores/', 'https://api.teleport.org/api/urban_areas/slug:buenos-aires/scores/', 'https://api.teleport.org/api/urban_areas/slug:buffalo/scores/', 'https://api.teleport.org/api/urban_areas/slug:cairo/scores/', 'https://api.teleport.org/api/urban_areas/slug:calgary/scores/', 'https://api.teleport.org/api/urban_areas/slug:cambridge/scores/', 'https://api.teleport.org/api/urban_areas/slug:cape-town/scores/', 'https://api.teleport.org/api/urban_areas/slug:caracas/scores/', 'https://api.teleport.org/api/urban_areas/slug:cardiff/scores/', 'https://api.teleport.org/api/urban_areas/slug:casablanca/scores/', 'https://api.teleport.org/api/urban_areas/slug:charleston/scores/', 'https://api.teleport.org/api/urban_areas/slug:charlotte/scores/', 'https://api.teleport.org/api/urban_areas/slug:chattanooga/scores/', 'https://api.teleport.org/api/urban_areas/slug:chennai/scores/', 'https://api.teleport.org/api/urban_areas/slug:chiang-mai/scores/', 'https://api.teleport.org/api/urban_areas/slug:chicago/scores/', 'https://api.teleport.org/api/urban_areas/slug:chisinau/scores/', 'https://api.teleport.org/api/urban_areas/slug:christchurch/scores/', 'https://api.teleport.org/api/urban_areas/slug:cincinnati/scores/', 'https://api.teleport.org/api/urban_areas/slug:cleveland/scores/', 'https://api.teleport.org/api/urban_areas/slug:cluj-napoca/scores/', 'https://api.teleport.org/api/urban_areas/slug:cologne/scores/', 'https://api.teleport.org/api/urban_areas/slug:colorado-springs/scores/', 'https://api.teleport.org/api/urban_areas/slug:columbus/scores/', 'https://api.teleport.org/api/urban_areas/slug:copenhagen/scores/', 'https://api.teleport.org/api/urban_areas/slug:cork/scores/', 'https://api.teleport.org/api/urban_areas/slug:curitiba/scores/', 'https://api.teleport.org/api/urban_areas/slug:dallas/scores/', 'https://api.teleport.org/api/urban_areas/slug:dar-es-salaam/scores/', 'https://api.teleport.org/api/urban_areas/slug:delhi/scores/', 'https://api.teleport.org/api/urban_areas/slug:denver/scores/', 'https://api.teleport.org/api/urban_areas/slug:des-moines/scores/', 'https://api.teleport.org/api/urban_areas/slug:detroit/scores/', 'https://api.teleport.org/api/urban_areas/slug:doha/scores/', 'https://api.teleport.org/api/urban_areas/slug:dresden/scores/', 'https://api.teleport.org/api/urban_areas/slug:dubai/scores/', 'https://api.teleport.org/api/urban_areas/slug:dublin/scores/', 'https://api.teleport.org/api/urban_areas/slug:dusseldorf/scores/', 'https://api.teleport.org/api/urban_areas/slug:edinburgh/scores/', 'https://api.teleport.org/api/urban_areas/slug:edmonton/scores/', 'https://api.teleport.org/api/urban_areas/slug:eindhoven/scores/', 'https://api.teleport.org/api/urban_areas/slug:eugene/scores/', 'https://api.teleport.org/api/urban_areas/slug:florence/scores/', 'https://api.teleport.org/api/urban_areas/slug:florianopolis/scores/', 'https://api.teleport.org/api/urban_areas/slug:fort-collins/scores/', 'https://api.teleport.org/api/urban_areas/slug:frankfurt/scores/', 'https://api.teleport.org/api/urban_areas/slug:fukuoka/scores/', 'https://api.teleport.org/api/urban_areas/slug:galway/scores/', 'https://api.teleport.org/api/urban_areas/slug:gdansk/scores/', 'https://api.teleport.org/api/urban_areas/slug:geneva/scores/', 'https://api.teleport.org/api/urban_areas/slug:gibraltar/scores/', 'https://api.teleport.org/api/urban_areas/slug:glasgow/scores/', 'https://api.teleport.org/api/urban_areas/slug:gothenburg/scores/', 'https://api.teleport.org/api/urban_areas/slug:grenoble/scores/', 'https://api.teleport.org/api/urban_areas/slug:guadalajara/scores/', 'https://api.teleport.org/api/urban_areas/slug:guatemala-city/scores/', 'https://api.teleport.org/api/urban_areas/slug:halifax/scores/', 'https://api.teleport.org/api/urban_areas/slug:hamburg/scores/', 'https://api.teleport.org/api/urban_areas/slug:hannover/scores/', 'https://api.teleport.org/api/urban_areas/slug:havana/scores/', 'https://api.teleport.org/api/urban_areas/slug:helsinki/scores/', 'https://api.teleport.org/api/urban_areas/slug:ho-chi-minh-city/scores/', 'https://api.teleport.org/api/urban_areas/slug:hong-kong/scores/', 'https://api.teleport.org/api/urban_areas/slug:honolulu/scores/', 'https://api.teleport.org/api/urban_areas/slug:houston/scores/', 'https://api.teleport.org/api/urban_areas/slug:hyderabad/scores/', 'https://api.teleport.org/api/urban_areas/slug:indianapolis/scores/', 'https://api.teleport.org/api/urban_areas/slug:innsbruck/scores/', 'https://api.teleport.org/api/urban_areas/slug:istanbul/scores/', 'https://api.teleport.org/api/urban_areas/slug:jacksonville/scores/', 'https://api.teleport.org/api/urban_areas/slug:jakarta/scores/', 'https://api.teleport.org/api/urban_areas/slug:johannesburg/scores/', 'https://api.teleport.org/api/urban_areas/slug:kansas-city/scores/', 'https://api.teleport.org/api/urban_areas/slug:karlsruhe/scores/', 'https://api.teleport.org/api/urban_areas/slug:kathmandu/scores/', 'https://api.teleport.org/api/urban_areas/slug:kiev/scores/', 'https://api.teleport.org/api/urban_areas/slug:kingston/scores/', 'https://api.teleport.org/api/urban_areas/slug:knoxville/scores/', 'https://api.teleport.org/api/urban_areas/slug:krakow/scores/', 'https://api.teleport.org/api/urban_areas/slug:kuala-lumpur/scores/', 'https://api.teleport.org/api/urban_areas/slug:kyoto/scores/', 'https://api.teleport.org/api/urban_areas/slug:lagos/scores/', 'https://api.teleport.org/api/urban_areas/slug:la-paz/scores/', 'https://api.teleport.org/api/urban_areas/slug:las-palmas-de-gran-canaria/scores/', 'https://api.teleport.org/api/urban_areas/slug:las-vegas/scores/', 'https://api.teleport.org/api/urban_areas/slug:lausanne/scores/', 'https://api.teleport.org/api/urban_areas/slug:leeds/scores/', 'https://api.teleport.org/api/urban_areas/slug:leipzig/scores/', 'https://api.teleport.org/api/urban_areas/slug:lille/scores/', 'https://api.teleport.org/api/urban_areas/slug:lima/scores/', 'https://api.teleport.org/api/urban_areas/slug:lisbon/scores/', 'https://api.teleport.org/api/urban_areas/slug:liverpool/scores/', 'https://api.teleport.org/api/urban_areas/slug:ljubljana/scores/', 'https://api.teleport.org/api/urban_areas/slug:london/scores/', 'https://api.teleport.org/api/urban_areas/slug:los-angeles/scores/', 'https://api.teleport.org/api/urban_areas/slug:louisville/scores/', 'https://api.teleport.org/api/urban_areas/slug:luxembourg/scores/', 'https://api.teleport.org/api/urban_areas/slug:lviv/scores/', 'https://api.teleport.org/api/urban_areas/slug:lyon/scores/', 'https://api.teleport.org/api/urban_areas/slug:madison/scores/', 'https://api.teleport.org/api/urban_areas/slug:madrid/scores/', 'https://api.teleport.org/api/urban_areas/slug:malaga/scores/', 'https://api.teleport.org/api/urban_areas/slug:malmo/scores/', 'https://api.teleport.org/api/urban_areas/slug:managua/scores/', 'https://api.teleport.org/api/urban_areas/slug:manchester/scores/', 'https://api.teleport.org/api/urban_areas/slug:manila/scores/', 'https://api.teleport.org/api/urban_areas/slug:marseille/scores/', 'https://api.teleport.org/api/urban_areas/slug:medellin/scores/', 'https://api.teleport.org/api/urban_areas/slug:melbourne/scores/', 'https://api.teleport.org/api/urban_areas/slug:memphis/scores/', 'https://api.teleport.org/api/urban_areas/slug:mexico-city/scores/', 'https://api.teleport.org/api/urban_areas/slug:miami/scores/', 'https://api.teleport.org/api/urban_areas/slug:milan/scores/', 'https://api.teleport.org/api/urban_areas/slug:milwaukee/scores/', 'https://api.teleport.org/api/urban_areas/slug:minneapolis-saint-paul/scores/', 'https://api.teleport.org/api/urban_areas/slug:minsk/scores/', 'https://api.teleport.org/api/urban_areas/slug:montevideo/scores/', 'https://api.teleport.org/api/urban_areas/slug:montreal/scores/', 'https://api.teleport.org/api/urban_areas/slug:moscow/scores/', 'https://api.teleport.org/api/urban_areas/slug:mumbai/scores/', 'https://api.teleport.org/api/urban_areas/slug:munich/scores/', 'https://api.teleport.org/api/urban_areas/slug:nairobi/scores/', 'https://api.teleport.org/api/urban_areas/slug:nantes/scores/', 'https://api.teleport.org/api/urban_areas/slug:naples/scores/', 'https://api.teleport.org/api/urban_areas/slug:nashville/scores/', 'https://api.teleport.org/api/urban_areas/slug:new-orleans/scores/', 'https://api.teleport.org/api/urban_areas/slug:new-york/scores/', 'https://api.teleport.org/api/urban_areas/slug:nice/scores/', 'https://api.teleport.org/api/urban_areas/slug:nicosia/scores/', 'https://api.teleport.org/api/urban_areas/slug:oklahoma-city/scores/', 'https://api.teleport.org/api/urban_areas/slug:omaha/scores/', 'https://api.teleport.org/api/urban_areas/slug:orlando/scores/', 'https://api.teleport.org/api/urban_areas/slug:osaka/scores/', 'https://api.teleport.org/api/urban_areas/slug:oslo/scores/', 'https://api.teleport.org/api/urban_areas/slug:ottawa/scores/', 'https://api.teleport.org/api/urban_areas/slug:oulu/scores/', 'https://api.teleport.org/api/urban_areas/slug:oxford/scores/', 'https://api.teleport.org/api/urban_areas/slug:palo-alto/scores/', 'https://api.teleport.org/api/urban_areas/slug:panama/scores/', 'https://api.teleport.org/api/urban_areas/slug:paris/scores/', 'https://api.teleport.org/api/urban_areas/slug:perth/scores/', 'https://api.teleport.org/api/urban_areas/slug:philadelphia/scores/', 'https://api.teleport.org/api/urban_areas/slug:phnom-penh/scores/', 'https://api.teleport.org/api/urban_areas/slug:phoenix/scores/', 'https://api.teleport.org/api/urban_areas/slug:phuket/scores/', 'https://api.teleport.org/api/urban_areas/slug:pittsburgh/scores/', 'https://api.teleport.org/api/urban_areas/slug:portland-me/scores/', 'https://api.teleport.org/api/urban_areas/slug:portland-or/scores/', 'https://api.teleport.org/api/urban_areas/slug:porto/scores/', 'https://api.teleport.org/api/urban_areas/slug:porto-alegre/scores/', 'https://api.teleport.org/api/urban_areas/slug:prague/scores/', 'https://api.teleport.org/api/urban_areas/slug:providence/scores/', 'https://api.teleport.org/api/urban_areas/slug:quebec/scores/', 'https://api.teleport.org/api/urban_areas/slug:quito/scores/', 'https://api.teleport.org/api/urban_areas/slug:raleigh/scores/', 'https://api.teleport.org/api/urban_areas/slug:reykjavik/scores/', 'https://api.teleport.org/api/urban_areas/slug:richmond/scores/', 'https://api.teleport.org/api/urban_areas/slug:riga/scores/', 'https://api.teleport.org/api/urban_areas/slug:rio-de-janeiro/scores/', 'https://api.teleport.org/api/urban_areas/slug:riyadh/scores/', 'https://api.teleport.org/api/urban_areas/slug:rochester/scores/', 'https://api.teleport.org/api/urban_areas/slug:rome/scores/', 'https://api.teleport.org/api/urban_areas/slug:rotterdam/scores/', 'https://api.teleport.org/api/urban_areas/slug:saint-petersburg/scores/', 'https://api.teleport.org/api/urban_areas/slug:salt-lake-city/scores/', 'https://api.teleport.org/api/urban_areas/slug:san-antonio/scores/', 'https://api.teleport.org/api/urban_areas/slug:san-diego/scores/', 'https://api.teleport.org/api/urban_areas/slug:san-francisco-bay-area/scores/', 'https://api.teleport.org/api/urban_areas/slug:san-jose/scores/', 'https://api.teleport.org/api/urban_areas/slug:san-juan/scores/', 'https://api.teleport.org/api/urban_areas/slug:san-luis-obispo/scores/', 'https://api.teleport.org/api/urban_areas/slug:san-salvador/scores/', 'https://api.teleport.org/api/urban_areas/slug:santiago/scores/', 'https://api.teleport.org/api/urban_areas/slug:santo-domingo/scores/', 'https://api.teleport.org/api/urban_areas/slug:sao-paulo/scores/', 'https://api.teleport.org/api/urban_areas/slug:sarajevo/scores/', 'https://api.teleport.org/api/urban_areas/slug:saskatoon/scores/', 'https://api.teleport.org/api/urban_areas/slug:seattle/scores/', 'https://api.teleport.org/api/urban_areas/slug:seoul/scores/', 'https://api.teleport.org/api/urban_areas/slug:seville/scores/', 'https://api.teleport.org/api/urban_areas/slug:shanghai/scores/', 'https://api.teleport.org/api/urban_areas/slug:singapore/scores/', 'https://api.teleport.org/api/urban_areas/slug:skopje/scores/', 'https://api.teleport.org/api/urban_areas/slug:sofia/scores/', 'https://api.teleport.org/api/urban_areas/slug:st-louis/scores/', 'https://api.teleport.org/api/urban_areas/slug:stockholm/scores/', 'https://api.teleport.org/api/urban_areas/slug:stuttgart/scores/', 'https://api.teleport.org/api/urban_areas/slug:sydney/scores/', 'https://api.teleport.org/api/urban_areas/slug:taipei/scores/', 'https://api.teleport.org/api/urban_areas/slug:tallinn/scores/', 'https://api.teleport.org/api/urban_areas/slug:tampa-bay-area/scores/', 'https://api.teleport.org/api/urban_areas/slug:tampere/scores/', 'https://api.teleport.org/api/urban_areas/slug:tartu/scores/', 'https://api.teleport.org/api/urban_areas/slug:tashkent/scores/', 'https://api.teleport.org/api/urban_areas/slug:tbilisi/scores/', 'https://api.teleport.org/api/urban_areas/slug:tehran/scores/', 'https://api.teleport.org/api/urban_areas/slug:tel-aviv/scores/', 'https://api.teleport.org/api/urban_areas/slug:the-hague/scores/', 'https://api.teleport.org/api/urban_areas/slug:thessaloniki/scores/', 'https://api.teleport.org/api/urban_areas/slug:tokyo/scores/', 'https://api.teleport.org/api/urban_areas/slug:toronto/scores/', 'https://api.teleport.org/api/urban_areas/slug:toulouse/scores/', 'https://api.teleport.org/api/urban_areas/slug:tunis/scores/', 'https://api.teleport.org/api/urban_areas/slug:turin/scores/', 'https://api.teleport.org/api/urban_areas/slug:turku/scores/', 'https://api.teleport.org/api/urban_areas/slug:uppsala/scores/', 'https://api.teleport.org/api/urban_areas/slug:utrecht/scores/', 'https://api.teleport.org/api/urban_areas/slug:valencia/scores/', 'https://api.teleport.org/api/urban_areas/slug:valletta/scores/', 'https://api.teleport.org/api/urban_areas/slug:vancouver/scores/', 'https://api.teleport.org/api/urban_areas/slug:victoria/scores/', 'https://api.teleport.org/api/urban_areas/slug:vienna/scores/', 'https://api.teleport.org/api/urban_areas/slug:vilnius/scores/', 'https://api.teleport.org/api/urban_areas/slug:warsaw/scores/', 'https://api.teleport.org/api/urban_areas/slug:washington-dc/scores/', 'https://api.teleport.org/api/urban_areas/slug:wellington/scores/', 'https://api.teleport.org/api/urban_areas/slug:winnipeg/scores/', 'https://api.teleport.org/api/urban_areas/slug:wroclaw/scores/', 'https://api.teleport.org/api/urban_areas/slug:yerevan/scores/', 'https://api.teleport.org/api/urban_areas/slug:zagreb/scores/', 'https://api.teleport.org/api/urban_areas/slug:zurich/scores/']\n"
     ]
    }
   ],
   "source": [
    "cityURL = []\n",
    "for x in cityNames:\n",
    "    citySearch = x.lower().replace(\" \", \"-\").replace(\",\",\"\").replace(\".\",\"\")\n",
    "    queryUrl = f\"https://api.teleport.org/api/urban_areas/slug:{citySearch}/scores/\"\n",
    "    cityURL.append(queryUrl)\n",
    "print(cityURL)"
   ]
  },
  {
   "cell_type": "code",
   "execution_count": 20,
   "metadata": {},
   "outputs": [
    {
     "name": "stdout",
     "output_type": "stream",
     "text": [
      "https://api.teleport.org/api/urban_areas/slug:galway/scores/\n"
     ]
    }
   ],
   "source": [
    "Housing = []\n",
    "Cost_of_Living = []\n",
    "Startups = []\n",
    "Venture_Capital = []\n",
    "Travel_Connectivity = []\n",
    "Commute = []\n",
    "Business_Freedom = []\n",
    "Safety = []\n",
    "Healthcare = []\n",
    "Education = []\n",
    "Environmental_Quality = []\n",
    "Economy = []\n",
    "Taxation = []\n",
    "Internet_Access = []\n",
    "Leisure = []\n",
    "Tolerance = []\n",
    "Outdoors = []\n",
    "\n",
    "for url in cityURL:\n",
    "    try:\n",
    "        response = requests.get(url).json()\n",
    "        \n",
    "        \n",
    "        categories = response[\"categories\"]\n",
    "        Housing.append(categories[0][\"score_out_of_10\"])\n",
    "        Cost_of_Living.append(categories[1][\"score_out_of_10\"])\n",
    "        Startups.append(categories[2][\"score_out_of_10\"])\n",
    "        Venture_Capital.append(categories[3][\"score_out_of_10\"])\n",
    "        Travel_Connectivity.append(categories[4][\"score_out_of_10\"])\n",
    "        Commute.append(categories[5][\"score_out_of_10\"])\n",
    "        Business_Freedom.append(categories[6][\"score_out_of_10\"])\n",
    "        Safety.append(categories[7][\"score_out_of_10\"])\n",
    "        Healthcare.append(categories[8][\"score_out_of_10\"])\n",
    "        Education.append(categories[9][\"score_out_of_10\"])\n",
    "        Environmental_Quality.append(categories[10][\"score_out_of_10\"])\n",
    "        Economy.append(categories[11][\"score_out_of_10\"])\n",
    "        Taxation.append(categories[12][\"score_out_of_10\"])\n",
    "        Internet_Access.append(categories[13][\"score_out_of_10\"])\n",
    "        Leisure.append(categories[14][\"score_out_of_10\"])\n",
    "        Tolerance.append(categories[15][\"score_out_of_10\"])\n",
    "        Outdoors.append(categories[16][\"score_out_of_10\"])\n",
    "    except Exception as e: \n",
    "        print(url)"
   ]
  },
  {
   "cell_type": "code",
   "execution_count": 21,
   "metadata": {},
   "outputs": [
    {
     "data": {
      "text/plain": [
       "265"
      ]
     },
     "execution_count": 21,
     "metadata": {},
     "output_type": "execute_result"
    }
   ],
   "source": [
    "len(Outdoors)"
   ]
  },
  {
   "cell_type": "code",
   "execution_count": 22,
   "metadata": {},
   "outputs": [
    {
     "name": "stdout",
     "output_type": "stream",
     "text": [
      "None\n"
     ]
    }
   ],
   "source": [
    "cityList = cityNames.remove(\"Galway\")\n",
    "print(cityList)"
   ]
  },
  {
   "cell_type": "code",
   "execution_count": 23,
   "metadata": {},
   "outputs": [],
   "source": [
    "df = pd.DataFrame()\n",
    "df['City'] = cityNames\n",
    "df['Housing'] = Housing\n",
    "df['Cost_of_Living'] = Cost_of_Living\n",
    "df['Startups'] = Startups\n",
    "df['Venture_Capital'] = Venture_Capital\n",
    "df['Travel_Connectivity'] = Travel_Connectivity\n",
    "df['Commute']= Commute \n",
    "df['Business_Freedom'] = Business_Freedom\n",
    "df['Safety'] = Safety\n",
    "df['Healthcare'] = Healthcare\n",
    "df['Education'] = Education\n",
    "df['Environmental_Quality'] = Environmental_Quality\n",
    "df['Economy'] = Economy\n",
    "df['Taxation'] = Taxation\n",
    "df['Internet_Access']= Internet_Access \n",
    "df['Leisure'] = Leisure\n",
    "df['Tolerance'] = Tolerance\n",
    "df['Outdoors'] = Outdoors"
   ]
  },
  {
   "cell_type": "markdown",
   "metadata": {},
   "source": [
    "### Using the city names from the teleport web scrape, we mapped each city to is corresponding geographical coordinates."
   ]
  },
  {
   "cell_type": "code",
   "execution_count": 15,
   "metadata": {},
   "outputs": [],
   "source": [
    "from config import g_key\n",
    "import time"
   ]
  },
  {
   "cell_type": "code",
   "execution_count": 24,
   "metadata": {},
   "outputs": [
    {
     "name": "stdout",
     "output_type": "stream",
     "text": [
      "['Aarhus', 'Adelaide', 'Albuquerque', 'Almaty', 'Amsterdam', 'Anchorage', 'Andorra', 'Ankara', 'Asheville', 'Asuncion', 'Athens', 'Atlanta', 'Auckland', 'Austin', 'Baku', 'Bali', 'Baltimore', 'Bangkok', 'Barcelona', 'Beijing', 'Beirut', 'Belfast', 'Belgrade', 'Belize+City', 'Bengaluru', 'Bergen', 'Berlin', 'Bern', 'Bilbao', 'Birmingham', 'Birmingham%2C+AL', 'Bogota', 'Boise', 'Bologna', 'Bordeaux', 'Boston', 'Boulder', 'Bozeman', 'Bratislava', 'Brighton', 'Brisbane', 'Bristol', 'Brno', 'Brussels', 'Bucharest', 'Budapest', 'Buenos+Aires', 'Buffalo', 'Cairo', 'Calgary', 'Cambridge', 'Cape+Town', 'Caracas', 'Cardiff', 'Casablanca', 'Charleston', 'Charlotte', 'Chattanooga', 'Chennai', 'Chiang+Mai', 'Chicago', 'Chisinau', 'Christchurch', 'Cincinnati', 'Cleveland', 'Cluj-Napoca', 'Cologne', 'Colorado+Springs', 'Columbus', 'Copenhagen', 'Cork', 'Curitiba', 'Dallas', 'Dar+es+Salaam', 'Delhi', 'Denver', 'Des+Moines', 'Detroit', 'Doha', 'Dresden', 'Dubai', 'Dublin', 'Dusseldorf', 'Edinburgh', 'Edmonton', 'Eindhoven', 'Eugene', 'Florence', 'Florianopolis', 'Fort+Collins', 'Frankfurt', 'Fukuoka', 'Gdansk', 'Geneva', 'Gibraltar', 'Glasgow', 'Gothenburg', 'Grenoble', 'Guadalajara', 'Guatemala+City', 'Halifax', 'Hamburg', 'Hannover', 'Havana', 'Helsinki', 'Ho+Chi+Minh+City', 'Hong+Kong', 'Honolulu', 'Houston', 'Hyderabad', 'Indianapolis', 'Innsbruck', 'Istanbul', 'Jacksonville', 'Jakarta', 'Johannesburg', 'Kansas+City', 'Karlsruhe', 'Kathmandu', 'Kiev', 'Kingston', 'Knoxville', 'Krakow', 'Kuala+Lumpur', 'Kyoto', 'Lagos', 'La+Paz', 'Las+Palmas+de+Gran+Canaria', 'Las+Vegas', 'Lausanne', 'Leeds', 'Leipzig', 'Lille', 'Lima', 'Lisbon', 'Liverpool', 'Ljubljana', 'London', 'Los+Angeles', 'Louisville', 'Luxembourg', 'Lviv', 'Lyon', 'Madison', 'Madrid', 'Malaga', 'Malmo', 'Managua', 'Manchester', 'Manila', 'Marseille', 'Medellin', 'Melbourne', 'Memphis', 'Mexico+City', 'Miami', 'Milan', 'Milwaukee', 'Minneapolis-Saint+Paul', 'Minsk', 'Montevideo', 'Montreal', 'Moscow', 'Mumbai', 'Munich', 'Nairobi', 'Nantes', 'Naples', 'Nashville', 'New+Orleans', 'New+York', 'Nice', 'Nicosia', 'Oklahoma+City', 'Omaha', 'Orlando', 'Osaka', 'Oslo', 'Ottawa', 'Oulu', 'Oxford', 'Palo+Alto', 'Panama', 'Paris', 'Perth', 'Philadelphia', 'Phnom+Penh', 'Phoenix', 'Phuket', 'Pittsburgh', 'Portland%2C+ME', 'Portland%2C+OR', 'Porto', 'Porto+Alegre', 'Prague', 'Providence', 'Quebec', 'Quito', 'Raleigh', 'Reykjavik', 'Richmond', 'Riga', 'Rio+De+Janeiro', 'Riyadh', 'Rochester', 'Rome', 'Rotterdam', 'Saint+Petersburg', 'Salt+Lake+City', 'San+Antonio', 'San+Diego', 'San+Francisco+Bay+Area', 'San+Jose', 'San+Juan', 'San+Luis+Obispo', 'San+Salvador', 'Santiago', 'Santo+Domingo', 'Sao+Paulo', 'Sarajevo', 'Saskatoon', 'Seattle', 'Seoul', 'Seville', 'Shanghai', 'Singapore', 'Skopje', 'Sofia', 'St.+Louis', 'Stockholm', 'Stuttgart', 'Sydney', 'Taipei', 'Tallinn', 'Tampa+Bay+Area', 'Tampere', 'Tartu', 'Tashkent', 'Tbilisi', 'Tehran', 'Tel+Aviv', 'The+Hague', 'Thessaloniki', 'Tokyo', 'Toronto', 'Toulouse', 'Tunis', 'Turin', 'Turku', 'Uppsala', 'Utrecht', 'Valencia', 'Valletta', 'Vancouver', 'Victoria', 'Vienna', 'Vilnius', 'Warsaw', 'Washington%2C+D.C.', 'Wellington', 'Winnipeg', 'Wroclaw', 'Yerevan', 'Zagreb', 'Zurich']\n"
     ]
    }
   ],
   "source": [
    "cityG = []\n",
    "for x in cityNames:\n",
    "    citySearch = x.replace(\" \", \"+\").replace(\",\",\"%2C\")\n",
    "    cityG.append(citySearch)\n",
    "print(cityG)"
   ]
  },
  {
   "cell_type": "code",
   "execution_count": 25,
   "metadata": {},
   "outputs": [],
   "source": [
    "locale = []\n",
    "latList = []\n",
    "lngList = []\n",
    "pinPoint = []\n",
    "\n",
    "for city in cityG:\n",
    "    url = f\"https://maps.googleapis.com/maps/api/geocode/json?address={city}&key={g_key}\"\n",
    "    try:\n",
    "        response = requests.get(url).json()\n",
    "        cityF = response[\"results\"][0][\"address_components\"][0][\"long_name\"] \n",
    "        lat = response[\"results\"][0][\"geometry\"][\"location\"][\"lat\"]\n",
    "        lng = response[\"results\"][0][\"geometry\"][\"location\"][\"lng\"]\n",
    "        pin = response[\"results\"][0][\"formatted_address\"]\n",
    "        \n",
    "        pinPoint.append(pin)\n",
    "        locale.append(cityF)\n",
    "        latList.append(lat)\n",
    "        lngList.append(lng)\n",
    "    except IndexError as e:\n",
    "        print(e)   \n",
    "        print(url)\n",
    "time.sleep(6)"
   ]
  },
  {
   "cell_type": "code",
   "execution_count": 26,
   "metadata": {},
   "outputs": [
    {
     "name": "stdout",
     "output_type": "stream",
     "text": [
      "['Aarhus, Denmark', 'Adelaide SA, Australia', 'Albuquerque, NM, USA', 'Almaty, Kazakhstan', 'Amsterdam, Netherlands', 'Anchorage, AK, USA', 'Andorra', 'Ankara, Turkey', 'Asheville, NC, USA', 'Asunción, Paraguay', 'Athens, Greece', 'Atlanta, GA, USA', 'Auckland, New Zealand', 'Austin, TX, USA', 'Baku, Azerbaijan', 'Bali, Indonesia', 'Baltimore, MD, USA', 'Bangkok, Thailand', '5160 S Yale Ave, Tulsa, OK 74135, USA', 'Beijing, China', 'Beirut, Lebanon', 'Belfast, UK', 'Belgrade, Serbia', 'Belize City, Belize', 'Bengaluru, Karnataka, India', 'Bergen, Norway', 'Berlin, Germany', 'Bern, Switzerland', 'Bilbao, Biscay, Spain', 'Birmingham, AL, USA', 'Birmingham, AL, USA', 'Bogota, Colombia', 'Boise, ID, USA', 'Bologna, Metropolitan City of Bologna, Italy', 'Bordeaux, France', 'Boston, MA, USA', 'Boulder, CO, USA', 'Bozeman, MT, USA', 'Bratislava, Slovakia', '8302 S Brighton Loop Rd, Brighton, UT 84121, USA', 'Brisbane QLD, Australia', 'Bristol, CT 06010, USA', 'Brno, Czechia', 'Brussels, Belgium', 'Bucharest, Romania', 'Budapest, Hungary', 'Buenos Aires, Argentina', 'Buffalo, NY, USA', 'Cairo, Cairo Governorate, Egypt', 'Calgary, AB, Canada', 'Cambridge, MA, USA', 'Cape Town, South Africa', 'Caracas, Capital District, Venezuela', 'Cardiff, UK', 'Casablanca, Morocco', 'Charleston, SC, USA', 'Charlotte, NC, USA', 'Chattanooga, TN, USA', 'Chennai, Tamil Nadu, India', 'Chiang Mai, Mueang Chiang Mai District, Chiang Mai, Thailand', 'Chicago, IL, USA', 'Chișinău, Moldova', 'Christchurch, New Zealand', 'Cincinnati, OH, USA', 'Cleveland, OH, USA', 'Cluj-Napoca, Romania', 'Cologne, Germany', 'Colorado Springs, CO, USA', 'Columbus, OH, USA', 'Copenhagen, Denmark', '1805 14th St NW, Washington, DC 20009, USA', 'Curitiba - State of Paraná, Brazil', 'Dallas, TX, USA', 'Dar es Salaam, Tanzania', 'Delhi, India', 'Denver, CO, USA', 'Des Moines, IA, USA', 'Detroit, MI, USA', 'Doha, Qatar', 'Dresden, Germany', 'Dubai - United Arab Emirates', 'Dublin, Ireland', 'Düsseldorf, Germany', 'Edinburgh, UK', 'Edmonton, AB, Canada', 'Eindhoven, Netherlands', 'Eugene, OR, USA', 'Florence, Metropolitan City of Florence, Italy', 'Florianópolis - State of Santa Catarina, Brazil', 'Fort Collins, CO, USA', 'Frankfurt, Germany', 'Fukuoka, Japan', 'Gdańsk, Poland', 'Geneva, Switzerland', 'Gibraltar', 'Glasgow, UK', 'Gothenburg, Sweden', 'Grenoble, Northampton Township, PA 18974, USA', 'Guadalajara, Jalisco, Mexico', 'Guatemala City, Guatemala', 'Halifax, NS, Canada', 'Hamburg, Germany', 'Hanover, Germany', 'Havana, Cuba', 'Helsinki, Finland', 'Ho Chi Minh City, Vietnam', 'Hong Kong', 'Honolulu, HI, USA', 'Houston, TX, USA', 'Hyderabad, Telangana, India', 'Indianapolis, IN, USA', 'Innsbruck, Austria', 'İstanbul, Turkey', 'Jacksonville, FL, USA', 'Jakarta, Indonesia', 'Johannesburg, South Africa', 'Kansas City, MO, USA', 'Karlsruhe, Germany', 'Kathmandu 44600, Nepal', 'Kyiv, Ukraine, 02000', 'Kingston, NY 12401, USA', 'Knoxville, TN, USA', 'Kraków, Poland', 'Kuala Lumpur, Federal Territory of Kuala Lumpur, Malaysia', 'Kyoto, Japan', 'Lagos, Nigeria', 'La Paz, Bolivia', 'Municipality of Las Palmas, Las Palmas, Spain', 'Las Vegas, NV, USA', 'Lausanne, Switzerland', 'Leeds, UK', 'Leipzig, Germany', 'Lille, France', 'Lima, Peru', 'Lisbon, Portugal', 'Boulevard Adolfo López Mateos 202, José María Ramírez, 21010 Mexicali, B.C., Mexico', 'Ljubljana, Slovenia', 'London, UK', 'Los Angeles, CA, USA', 'Louisville, KY, USA', 'Luxembourg', 'Lviv, Lviv Oblast, Ukraine, 79000', 'Lyon, France', 'Madison, WI, USA', 'Madrid, Spain', 'Málaga, Spain', 'Malmö, Sweden', 'Managua, Nicaragua', 'Manchester, UK', 'Manila, Metro Manila, Philippines', 'Marseille, France', 'Medellín, Medellin, Antioquia, Colombia', 'Melbourne VIC, Australia', 'Memphis, TN, USA', 'Mexico City, CDMX, Mexico', 'Miami, FL, USA', 'Milan, Metropolitan City of Milan, Italy', 'Milwaukee, WI, USA', 'Twin Cities, MN, USA', 'Minsk, Belarus', 'Montevideo, Montevideo Department, Uruguay', 'Montreal, QC, Canada', 'Moscow, Russia', 'Mumbai, Maharashtra, India', 'Munich, Germany', 'Nairobi, Kenya', 'Nantes, France', 'Naples, FL, USA', 'Nashville, TN, USA', 'New Orleans, LA, USA', 'New York, NY, USA', 'Nice, CA, USA', 'Nicosia, Cyprus', 'Oklahoma City, OK, USA', 'Omaha, NE, USA', 'Orlando, FL, USA', 'Osaka, Japan', 'Oslo, Norway', 'Ottawa, ON, Canada', 'Oulu, Finland', 'Oxford, UK', 'Palo Alto, CA, USA', 'Panama', 'Paris, France', 'Perth WA, Australia', 'Philadelphia, PA, USA', 'Phnom Penh, Cambodia', 'Phoenix, AZ, USA', 'Phuket, Thailand', 'Pittsburgh, PA, USA', 'Portland, ME, USA', 'Portland, OR, USA', 'Ring Rd, Boston, MA 02199, USA', 'Porto Alegre, RS, Brazil', 'Prague, Czechia', 'Providence, RI, USA', 'Quebec City, QC, Canada', 'Quito, Ecuador', 'Raleigh, NC, USA', 'Reykjavík, Iceland', 'Richmond, VA, USA', 'Riga, Latvia', 'Rio de Janeiro, State of Rio de Janeiro, Brazil', 'Riyadh Saudi Arabia', 'Rochester, NY, USA', 'Rome, Metropolitan City of Rome, Italy', 'Rotterdam, Netherlands', 'St Petersburg, Russia', 'Salt Lake City, UT, USA', 'San Antonio, TX, USA', 'San Diego, CA, USA', 'San Francisco Bay Area, CA, USA', 'San Jose, CA, USA', 'San Juan, Puerto Rico', 'San Luis Obispo, CA, USA', 'San Salvador, El Salvador', 'Santiago, Santiago Metropolitan Region, Chile', 'Santo Domingo, Dominican Republic', 'São Paulo, State of São Paulo, Brazil', 'Sarajevo, Bosnia and Herzegovina', 'Saskatoon, SK, Canada', 'Seattle, WA, USA', 'Seoul, South Korea', 'Seville, Spain', 'Shanghai, China', 'Singapore', 'Skopje, North Macedonia', 'Sofia, Bulgaria', 'St. Louis, MO, USA', 'Stockholm, Sweden', 'Stuttgart, Germany', 'Sydney NSW, Australia', 'Taipei, Taiwan', 'Tallinn, Estonia', 'Tampa-St. Petersburg Metropolitan Area, FL, USA', 'Tampere, Finland', 'Tartu, Estonia', 'Tashkent, Uzbekistan', 'Tbilisi, Georgia', 'Tehran, Tehran Province, Iran', 'Tel Aviv-Yafo, Israel', 'The Hague, Netherlands', 'Thessaloniki, Greece', 'Tokyo, Japan', 'Toronto, ON, Canada', 'Toulouse, France', 'Tunis, Tunisia', 'Turin, Metropolitan City of Turin, Italy', 'Turku, Finland', 'Uppsala, Sweden', 'Utrecht, Netherlands', 'Valencia, Spain', 'Valletta, Malta', 'Vancouver, BC, Canada', 'Victoria, TX, USA', 'Vienna, Austria', 'Vilnius, Lithuania', 'Warsaw, Poland', 'Washington, DC, USA', 'Wellington, New Zealand', 'Winnipeg, MB, Canada', 'Wrocław, Poland', 'Yerevan, Armenia', 'Zagreb, Croatia', 'Zürich, Switzerland']\n"
     ]
    }
   ],
   "source": [
    "print(pinPoint)"
   ]
  },
  {
   "cell_type": "code",
   "execution_count": 27,
   "metadata": {},
   "outputs": [],
   "source": [
    "df = pd.DataFrame()\n",
    "df['City'] = cityNames\n",
    "df['Address'] = pinPoint\n",
    "df['Latitude'] = latList\n",
    "df['Longitude'] = lngList\n",
    "df['Housing'] = Housing\n",
    "df['Cost_of_Living'] = Cost_of_Living\n",
    "df['Startups'] = Startups\n",
    "df['Venture_Capital'] = Venture_Capital\n",
    "df['Travel_Connectivity'] = Travel_Connectivity\n",
    "df['Commute']= Commute \n",
    "df['Business_Freedom'] = Business_Freedom\n",
    "df['Safety'] = Safety\n",
    "df['Healthcare'] = Healthcare\n",
    "df['Education'] = Education\n",
    "df['Environmental_Quality'] = Environmental_Quality\n",
    "df['Economy'] = Economy\n",
    "df['Taxation'] = Taxation\n",
    "df['Internet_Access']= Internet_Access \n",
    "df['Leisure'] = Leisure\n",
    "df['Tolerance'] = Tolerance\n",
    "df['Outdoors'] = Outdoors"
   ]
  },
  {
   "cell_type": "code",
   "execution_count": 28,
   "metadata": {},
   "outputs": [
    {
     "data": {
      "text/html": [
       "<div>\n",
       "<style scoped>\n",
       "    .dataframe tbody tr th:only-of-type {\n",
       "        vertical-align: middle;\n",
       "    }\n",
       "\n",
       "    .dataframe tbody tr th {\n",
       "        vertical-align: top;\n",
       "    }\n",
       "\n",
       "    .dataframe thead th {\n",
       "        text-align: right;\n",
       "    }\n",
       "</style>\n",
       "<table border=\"1\" class=\"dataframe\">\n",
       "  <thead>\n",
       "    <tr style=\"text-align: right;\">\n",
       "      <th></th>\n",
       "      <th>City</th>\n",
       "      <th>Address</th>\n",
       "      <th>Latitude</th>\n",
       "      <th>Longitude</th>\n",
       "      <th>Housing</th>\n",
       "      <th>Cost_of_Living</th>\n",
       "      <th>Startups</th>\n",
       "      <th>Venture_Capital</th>\n",
       "      <th>Travel_Connectivity</th>\n",
       "      <th>Commute</th>\n",
       "      <th>...</th>\n",
       "      <th>Safety</th>\n",
       "      <th>Healthcare</th>\n",
       "      <th>Education</th>\n",
       "      <th>Environmental_Quality</th>\n",
       "      <th>Economy</th>\n",
       "      <th>Taxation</th>\n",
       "      <th>Internet_Access</th>\n",
       "      <th>Leisure</th>\n",
       "      <th>Tolerance</th>\n",
       "      <th>Outdoors</th>\n",
       "    </tr>\n",
       "  </thead>\n",
       "  <tbody>\n",
       "    <tr>\n",
       "      <th>0</th>\n",
       "      <td>Aarhus</td>\n",
       "      <td>Aarhus, Denmark</td>\n",
       "      <td>56.162939</td>\n",
       "      <td>10.203921</td>\n",
       "      <td>6.1315</td>\n",
       "      <td>4.015</td>\n",
       "      <td>2.8270</td>\n",
       "      <td>2.512</td>\n",
       "      <td>3.5360</td>\n",
       "      <td>6.31175</td>\n",
       "      <td>...</td>\n",
       "      <td>9.6165</td>\n",
       "      <td>8.704333</td>\n",
       "      <td>5.3665</td>\n",
       "      <td>7.63300</td>\n",
       "      <td>4.8865</td>\n",
       "      <td>5.0680</td>\n",
       "      <td>8.3730</td>\n",
       "      <td>3.1870</td>\n",
       "      <td>9.7385</td>\n",
       "      <td>4.1300</td>\n",
       "    </tr>\n",
       "    <tr>\n",
       "      <th>1</th>\n",
       "      <td>Adelaide</td>\n",
       "      <td>Adelaide SA, Australia</td>\n",
       "      <td>-34.928499</td>\n",
       "      <td>138.600746</td>\n",
       "      <td>6.3095</td>\n",
       "      <td>4.692</td>\n",
       "      <td>3.1365</td>\n",
       "      <td>2.640</td>\n",
       "      <td>1.7765</td>\n",
       "      <td>5.33625</td>\n",
       "      <td>...</td>\n",
       "      <td>7.9260</td>\n",
       "      <td>7.936667</td>\n",
       "      <td>5.1420</td>\n",
       "      <td>8.33075</td>\n",
       "      <td>6.0695</td>\n",
       "      <td>4.5885</td>\n",
       "      <td>4.3410</td>\n",
       "      <td>4.3285</td>\n",
       "      <td>7.8220</td>\n",
       "      <td>5.5310</td>\n",
       "    </tr>\n",
       "    <tr>\n",
       "      <th>2</th>\n",
       "      <td>Albuquerque</td>\n",
       "      <td>Albuquerque, NM, USA</td>\n",
       "      <td>35.084386</td>\n",
       "      <td>-106.650422</td>\n",
       "      <td>7.2620</td>\n",
       "      <td>6.059</td>\n",
       "      <td>3.7720</td>\n",
       "      <td>1.493</td>\n",
       "      <td>1.4555</td>\n",
       "      <td>5.05575</td>\n",
       "      <td>...</td>\n",
       "      <td>1.3435</td>\n",
       "      <td>6.430000</td>\n",
       "      <td>4.1520</td>\n",
       "      <td>7.31950</td>\n",
       "      <td>6.5145</td>\n",
       "      <td>4.3460</td>\n",
       "      <td>5.3960</td>\n",
       "      <td>4.8900</td>\n",
       "      <td>7.0285</td>\n",
       "      <td>3.5155</td>\n",
       "    </tr>\n",
       "    <tr>\n",
       "      <th>3</th>\n",
       "      <td>Almaty</td>\n",
       "      <td>Almaty, Kazakhstan</td>\n",
       "      <td>43.222015</td>\n",
       "      <td>76.851248</td>\n",
       "      <td>9.2820</td>\n",
       "      <td>9.333</td>\n",
       "      <td>2.4585</td>\n",
       "      <td>0.000</td>\n",
       "      <td>4.5920</td>\n",
       "      <td>5.87125</td>\n",
       "      <td>...</td>\n",
       "      <td>7.3090</td>\n",
       "      <td>4.545667</td>\n",
       "      <td>2.2830</td>\n",
       "      <td>3.85675</td>\n",
       "      <td>5.2690</td>\n",
       "      <td>8.5220</td>\n",
       "      <td>2.8860</td>\n",
       "      <td>2.9370</td>\n",
       "      <td>6.5395</td>\n",
       "      <td>5.5000</td>\n",
       "    </tr>\n",
       "    <tr>\n",
       "      <th>4</th>\n",
       "      <td>Amsterdam</td>\n",
       "      <td>Amsterdam, Netherlands</td>\n",
       "      <td>52.366697</td>\n",
       "      <td>4.894540</td>\n",
       "      <td>3.0530</td>\n",
       "      <td>3.824</td>\n",
       "      <td>7.9715</td>\n",
       "      <td>6.107</td>\n",
       "      <td>8.3245</td>\n",
       "      <td>6.11850</td>\n",
       "      <td>...</td>\n",
       "      <td>8.5035</td>\n",
       "      <td>7.907333</td>\n",
       "      <td>6.1800</td>\n",
       "      <td>7.59725</td>\n",
       "      <td>5.0530</td>\n",
       "      <td>4.9550</td>\n",
       "      <td>4.5230</td>\n",
       "      <td>8.8740</td>\n",
       "      <td>8.3680</td>\n",
       "      <td>5.3070</td>\n",
       "    </tr>\n",
       "    <tr>\n",
       "      <th>...</th>\n",
       "      <td>...</td>\n",
       "      <td>...</td>\n",
       "      <td>...</td>\n",
       "      <td>...</td>\n",
       "      <td>...</td>\n",
       "      <td>...</td>\n",
       "      <td>...</td>\n",
       "      <td>...</td>\n",
       "      <td>...</td>\n",
       "      <td>...</td>\n",
       "      <td>...</td>\n",
       "      <td>...</td>\n",
       "      <td>...</td>\n",
       "      <td>...</td>\n",
       "      <td>...</td>\n",
       "      <td>...</td>\n",
       "      <td>...</td>\n",
       "      <td>...</td>\n",
       "      <td>...</td>\n",
       "      <td>...</td>\n",
       "      <td>...</td>\n",
       "    </tr>\n",
       "    <tr>\n",
       "      <th>260</th>\n",
       "      <td>Winnipeg</td>\n",
       "      <td>Winnipeg, MB, Canada</td>\n",
       "      <td>49.895136</td>\n",
       "      <td>-97.138374</td>\n",
       "      <td>7.5525</td>\n",
       "      <td>5.882</td>\n",
       "      <td>3.7965</td>\n",
       "      <td>0.000</td>\n",
       "      <td>1.4755</td>\n",
       "      <td>5.10450</td>\n",
       "      <td>...</td>\n",
       "      <td>6.0155</td>\n",
       "      <td>7.755667</td>\n",
       "      <td>5.3440</td>\n",
       "      <td>5.67475</td>\n",
       "      <td>5.8405</td>\n",
       "      <td>7.2745</td>\n",
       "      <td>4.9025</td>\n",
       "      <td>4.6880</td>\n",
       "      <td>6.6590</td>\n",
       "      <td>4.2430</td>\n",
       "    </tr>\n",
       "    <tr>\n",
       "      <th>261</th>\n",
       "      <td>Wroclaw</td>\n",
       "      <td>Wrocław, Poland</td>\n",
       "      <td>51.107885</td>\n",
       "      <td>17.038538</td>\n",
       "      <td>8.4520</td>\n",
       "      <td>8.434</td>\n",
       "      <td>3.5860</td>\n",
       "      <td>2.386</td>\n",
       "      <td>2.2445</td>\n",
       "      <td>4.95475</td>\n",
       "      <td>...</td>\n",
       "      <td>8.1655</td>\n",
       "      <td>6.781333</td>\n",
       "      <td>4.1615</td>\n",
       "      <td>4.96475</td>\n",
       "      <td>4.7615</td>\n",
       "      <td>5.0970</td>\n",
       "      <td>5.7615</td>\n",
       "      <td>4.7495</td>\n",
       "      <td>3.9045</td>\n",
       "      <td>4.0850</td>\n",
       "    </tr>\n",
       "    <tr>\n",
       "      <th>262</th>\n",
       "      <td>Yerevan</td>\n",
       "      <td>Yerevan, Armenia</td>\n",
       "      <td>40.187202</td>\n",
       "      <td>44.515209</td>\n",
       "      <td>9.6945</td>\n",
       "      <td>9.431</td>\n",
       "      <td>3.9265</td>\n",
       "      <td>0.000</td>\n",
       "      <td>1.7870</td>\n",
       "      <td>5.64925</td>\n",
       "      <td>...</td>\n",
       "      <td>8.8730</td>\n",
       "      <td>5.102000</td>\n",
       "      <td>0.0000</td>\n",
       "      <td>4.43950</td>\n",
       "      <td>3.4580</td>\n",
       "      <td>8.0550</td>\n",
       "      <td>3.9000</td>\n",
       "      <td>4.7370</td>\n",
       "      <td>7.3465</td>\n",
       "      <td>7.7765</td>\n",
       "    </tr>\n",
       "    <tr>\n",
       "      <th>263</th>\n",
       "      <td>Zagreb</td>\n",
       "      <td>Zagreb, Croatia</td>\n",
       "      <td>45.815011</td>\n",
       "      <td>15.981919</td>\n",
       "      <td>8.9100</td>\n",
       "      <td>7.194</td>\n",
       "      <td>4.4530</td>\n",
       "      <td>1.775</td>\n",
       "      <td>2.0280</td>\n",
       "      <td>4.83000</td>\n",
       "      <td>...</td>\n",
       "      <td>8.6575</td>\n",
       "      <td>7.266000</td>\n",
       "      <td>3.2110</td>\n",
       "      <td>7.33150</td>\n",
       "      <td>2.2365</td>\n",
       "      <td>7.9935</td>\n",
       "      <td>5.0335</td>\n",
       "      <td>4.9945</td>\n",
       "      <td>7.9545</td>\n",
       "      <td>4.8090</td>\n",
       "    </tr>\n",
       "    <tr>\n",
       "      <th>264</th>\n",
       "      <td>Zurich</td>\n",
       "      <td>Zürich, Switzerland</td>\n",
       "      <td>47.376887</td>\n",
       "      <td>8.541694</td>\n",
       "      <td>1.4730</td>\n",
       "      <td>1.000</td>\n",
       "      <td>6.2035</td>\n",
       "      <td>3.872</td>\n",
       "      <td>7.7335</td>\n",
       "      <td>5.83950</td>\n",
       "      <td>...</td>\n",
       "      <td>9.0665</td>\n",
       "      <td>7.670333</td>\n",
       "      <td>7.2875</td>\n",
       "      <td>8.64300</td>\n",
       "      <td>6.5520</td>\n",
       "      <td>6.4285</td>\n",
       "      <td>7.2675</td>\n",
       "      <td>4.9655</td>\n",
       "      <td>8.7845</td>\n",
       "      <td>5.4010</td>\n",
       "    </tr>\n",
       "  </tbody>\n",
       "</table>\n",
       "<p>265 rows × 21 columns</p>\n",
       "</div>"
      ],
      "text/plain": [
       "            City                 Address   Latitude   Longitude  Housing  \\\n",
       "0         Aarhus         Aarhus, Denmark  56.162939   10.203921   6.1315   \n",
       "1       Adelaide  Adelaide SA, Australia -34.928499  138.600746   6.3095   \n",
       "2    Albuquerque    Albuquerque, NM, USA  35.084386 -106.650422   7.2620   \n",
       "3         Almaty      Almaty, Kazakhstan  43.222015   76.851248   9.2820   \n",
       "4      Amsterdam  Amsterdam, Netherlands  52.366697    4.894540   3.0530   \n",
       "..           ...                     ...        ...         ...      ...   \n",
       "260     Winnipeg    Winnipeg, MB, Canada  49.895136  -97.138374   7.5525   \n",
       "261      Wroclaw         Wrocław, Poland  51.107885   17.038538   8.4520   \n",
       "262      Yerevan        Yerevan, Armenia  40.187202   44.515209   9.6945   \n",
       "263       Zagreb         Zagreb, Croatia  45.815011   15.981919   8.9100   \n",
       "264       Zurich     Zürich, Switzerland  47.376887    8.541694   1.4730   \n",
       "\n",
       "     Cost_of_Living  Startups  Venture_Capital  Travel_Connectivity  Commute  \\\n",
       "0             4.015    2.8270            2.512               3.5360  6.31175   \n",
       "1             4.692    3.1365            2.640               1.7765  5.33625   \n",
       "2             6.059    3.7720            1.493               1.4555  5.05575   \n",
       "3             9.333    2.4585            0.000               4.5920  5.87125   \n",
       "4             3.824    7.9715            6.107               8.3245  6.11850   \n",
       "..              ...       ...              ...                  ...      ...   \n",
       "260           5.882    3.7965            0.000               1.4755  5.10450   \n",
       "261           8.434    3.5860            2.386               2.2445  4.95475   \n",
       "262           9.431    3.9265            0.000               1.7870  5.64925   \n",
       "263           7.194    4.4530            1.775               2.0280  4.83000   \n",
       "264           1.000    6.2035            3.872               7.7335  5.83950   \n",
       "\n",
       "     ...  Safety  Healthcare  Education  Environmental_Quality  Economy  \\\n",
       "0    ...  9.6165    8.704333     5.3665                7.63300   4.8865   \n",
       "1    ...  7.9260    7.936667     5.1420                8.33075   6.0695   \n",
       "2    ...  1.3435    6.430000     4.1520                7.31950   6.5145   \n",
       "3    ...  7.3090    4.545667     2.2830                3.85675   5.2690   \n",
       "4    ...  8.5035    7.907333     6.1800                7.59725   5.0530   \n",
       "..   ...     ...         ...        ...                    ...      ...   \n",
       "260  ...  6.0155    7.755667     5.3440                5.67475   5.8405   \n",
       "261  ...  8.1655    6.781333     4.1615                4.96475   4.7615   \n",
       "262  ...  8.8730    5.102000     0.0000                4.43950   3.4580   \n",
       "263  ...  8.6575    7.266000     3.2110                7.33150   2.2365   \n",
       "264  ...  9.0665    7.670333     7.2875                8.64300   6.5520   \n",
       "\n",
       "     Taxation  Internet_Access  Leisure  Tolerance  Outdoors  \n",
       "0      5.0680           8.3730   3.1870     9.7385    4.1300  \n",
       "1      4.5885           4.3410   4.3285     7.8220    5.5310  \n",
       "2      4.3460           5.3960   4.8900     7.0285    3.5155  \n",
       "3      8.5220           2.8860   2.9370     6.5395    5.5000  \n",
       "4      4.9550           4.5230   8.8740     8.3680    5.3070  \n",
       "..        ...              ...      ...        ...       ...  \n",
       "260    7.2745           4.9025   4.6880     6.6590    4.2430  \n",
       "261    5.0970           5.7615   4.7495     3.9045    4.0850  \n",
       "262    8.0550           3.9000   4.7370     7.3465    7.7765  \n",
       "263    7.9935           5.0335   4.9945     7.9545    4.8090  \n",
       "264    6.4285           7.2675   4.9655     8.7845    5.4010  \n",
       "\n",
       "[265 rows x 21 columns]"
      ]
     },
     "execution_count": 28,
     "metadata": {},
     "output_type": "execute_result"
    }
   ],
   "source": [
    "df"
   ]
  },
  {
   "cell_type": "code",
   "execution_count": 29,
   "metadata": {},
   "outputs": [],
   "source": [
    "df.to_csv('Allinclusive.csv')"
   ]
  }
 ],
 "metadata": {
  "kernelspec": {
   "display_name": "Python 3",
   "language": "python",
   "name": "python3"
  },
  "language_info": {
   "codemirror_mode": {
    "name": "ipython",
    "version": 3
   },
   "file_extension": ".py",
   "mimetype": "text/x-python",
   "name": "python",
   "nbconvert_exporter": "python",
   "pygments_lexer": "ipython3",
   "version": "3.7.6"
  }
 },
 "nbformat": 4,
 "nbformat_minor": 4
}
